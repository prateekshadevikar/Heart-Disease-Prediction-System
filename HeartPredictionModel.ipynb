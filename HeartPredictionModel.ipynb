{
 "cells": [
  {
   "cell_type": "markdown",
   "metadata": {
    "deletable": true,
    "editable": true,
    "id": "08BcIN5jUFrz"
   },
   "source": [
    "## Heart Disease Prediction"
   ]
  },
  {
   "cell_type": "markdown",
   "metadata": {
    "deletable": true,
    "editable": true,
    "id": "UBJPEGZ5UFr6"
   },
   "source": [
    "#### For this project, we have used a dataset from Kaggle (https://www.kaggle.com/ronitf/heart-disease-uci)"
   ]
  },
  {
   "cell_type": "markdown",
   "metadata": {
    "deletable": true,
    "editable": true,
    "id": "m2IE0BA8UFr7"
   },
   "source": [
    "### 1. Import Libraries"
   ]
  },
  {
   "cell_type": "markdown",
   "metadata": {
    "deletable": true,
    "editable": true,
    "id": "ivldlldxUFr7"
   },
   "source": [
    " - numpy : Python library used for working with arrays\n",
    " - pandas : Python library used for data manipulation and analysis\n",
    " - matplotlib : modules used are pyplot, rcParams, rainbow\n",
    "     - pyplot : It makes matplotlib work like a MATLAB. It is used to create figures, plot graphs, etc.\n",
    "     - rcParams : \n",
    "     - rainbow : It is used to set different colors for each series in a matplotlib scatter plot"
   ]
  },
  {
   "cell_type": "code",
   "execution_count": 1,
   "metadata": {
    "collapsed": true,
    "deletable": true,
    "editable": true,
    "id": "OrsqArMjUFr8"
   },
   "outputs": [],
   "source": [
    "import numpy as np\n",
    "import pandas as pd\n",
    "import matplotlib.pyplot as plt\n",
    "from matplotlib import rcParams\n",
    "from matplotlib.cm import rainbow\n",
    "%matplotlib inline\n",
    "import warnings\n",
    "warnings.filterwarnings('ignore')\n",
    "from matplotlib import style\n",
    "style.use('ggplot')\n",
    "import math"
   ]
  },
  {
   "cell_type": "markdown",
   "metadata": {
    "deletable": true,
    "editable": true,
    "id": "t4c-gjM1UFr8"
   },
   "source": [
    "Libraries for data processing "
   ]
  },
  {
   "cell_type": "code",
   "execution_count": 2,
   "metadata": {
    "collapsed": true,
    "deletable": true,
    "editable": true,
    "id": "ZPQiIHmbUFr9"
   },
   "outputs": [],
   "source": [
    "from sklearn.model_selection import train_test_split\n",
    "from sklearn.preprocessing import StandardScaler\n",
    "from sklearn.metrics import accuracy_score"
   ]
  },
  {
   "cell_type": "markdown",
   "metadata": {
    "deletable": true,
    "editable": true,
    "id": "8IXQNU2eUFr9"
   },
   "source": [
    "### 2. Import Dataset"
   ]
  },
  {
   "cell_type": "markdown",
   "metadata": {
    "deletable": true,
    "editable": true,
    "id": "ovUScewWUFr9"
   },
   "source": [
    "Now, we will import the dataset. The dataset is present in our system as 'heart.csv'. We will make use of Pandas library's read_csv() function to get the dataset. \n",
    "The dataset get loaded into the variable dataset. We can access and modify the dataset using this variable."
   ]
  },
  {
   "cell_type": "code",
   "execution_count": 3,
   "metadata": {
    "collapsed": false,
    "deletable": true,
    "editable": true,
    "id": "vuT5vyVEUFr-"
   },
   "outputs": [],
   "source": [
    "dataset = pd.read_csv('heart.csv')"
   ]
  },
  {
   "cell_type": "markdown",
   "metadata": {
    "deletable": true,
    "editable": true,
    "id": "v-qkc11fUFr-"
   },
   "source": [
    "To check whether dataset is correctly loaded, we will use some functions to take a glimpse of the dataset."
   ]
  },
  {
   "cell_type": "code",
   "execution_count": 4,
   "metadata": {
    "colab": {
     "base_uri": "https://localhost:8080/"
    },
    "collapsed": false,
    "deletable": true,
    "editable": true,
    "id": "KUZaIXieUFr-",
    "outputId": "a0ecd19e-e675-4abd-d0b2-c65c8630508b"
   },
   "outputs": [
    {
     "name": "stdout",
     "output_type": "stream",
     "text": [
      "<class 'pandas.core.frame.DataFrame'>\n",
      "RangeIndex: 303 entries, 0 to 302\n",
      "Data columns (total 14 columns):\n",
      "age         303 non-null int64\n",
      "sex         303 non-null int64\n",
      "cp          303 non-null int64\n",
      "trestbps    303 non-null int64\n",
      "chol        303 non-null int64\n",
      "fbs         303 non-null int64\n",
      "restecg     303 non-null int64\n",
      "thalach     303 non-null int64\n",
      "exang       303 non-null int64\n",
      "oldpeak     303 non-null float64\n",
      "slope       303 non-null int64\n",
      "ca          303 non-null int64\n",
      "thal        303 non-null int64\n",
      "target      303 non-null int64\n",
      "dtypes: float64(1), int64(13)\n",
      "memory usage: 33.2 KB\n"
     ]
    }
   ],
   "source": [
    "dataset.info()"
   ]
  },
  {
   "cell_type": "markdown",
   "metadata": {
    "deletable": true,
    "editable": true,
    "id": "AmNSYB9aUFr_"
   },
   "source": [
    "From the dataset.info(), we come to know that there are 303 rows in our dataset. The dataset contains 0 missing values. \n",
    "There are 13 attributes we need to work on and one target attribute which has class value as either 1 or 0."
   ]
  },
  {
   "cell_type": "code",
   "execution_count": 5,
   "metadata": {
    "collapsed": false,
    "deletable": true,
    "editable": true,
    "id": "11wOOY7XUFsA",
    "outputId": "aca1bda9-34c2-4573-fc23-f075e6f47242"
   },
   "outputs": [
    {
     "data": {
      "text/html": [
       "<div>\n",
       "<style scoped>\n",
       "    .dataframe tbody tr th:only-of-type {\n",
       "        vertical-align: middle;\n",
       "    }\n",
       "\n",
       "    .dataframe tbody tr th {\n",
       "        vertical-align: top;\n",
       "    }\n",
       "\n",
       "    .dataframe thead th {\n",
       "        text-align: right;\n",
       "    }\n",
       "</style>\n",
       "<table border=\"1\" class=\"dataframe\">\n",
       "  <thead>\n",
       "    <tr style=\"text-align: right;\">\n",
       "      <th></th>\n",
       "      <th>age</th>\n",
       "      <th>sex</th>\n",
       "      <th>cp</th>\n",
       "      <th>trestbps</th>\n",
       "      <th>chol</th>\n",
       "      <th>fbs</th>\n",
       "      <th>restecg</th>\n",
       "      <th>thalach</th>\n",
       "      <th>exang</th>\n",
       "      <th>oldpeak</th>\n",
       "      <th>slope</th>\n",
       "      <th>ca</th>\n",
       "      <th>thal</th>\n",
       "      <th>target</th>\n",
       "    </tr>\n",
       "  </thead>\n",
       "  <tbody>\n",
       "    <tr>\n",
       "      <th>count</th>\n",
       "      <td>303.000000</td>\n",
       "      <td>303.000000</td>\n",
       "      <td>303.000000</td>\n",
       "      <td>303.000000</td>\n",
       "      <td>303.000000</td>\n",
       "      <td>303.000000</td>\n",
       "      <td>303.000000</td>\n",
       "      <td>303.000000</td>\n",
       "      <td>303.000000</td>\n",
       "      <td>303.000000</td>\n",
       "      <td>303.000000</td>\n",
       "      <td>303.000000</td>\n",
       "      <td>303.000000</td>\n",
       "      <td>303.000000</td>\n",
       "    </tr>\n",
       "    <tr>\n",
       "      <th>mean</th>\n",
       "      <td>54.366337</td>\n",
       "      <td>0.683168</td>\n",
       "      <td>0.966997</td>\n",
       "      <td>131.623762</td>\n",
       "      <td>246.264026</td>\n",
       "      <td>0.148515</td>\n",
       "      <td>0.528053</td>\n",
       "      <td>149.646865</td>\n",
       "      <td>0.326733</td>\n",
       "      <td>1.039604</td>\n",
       "      <td>1.399340</td>\n",
       "      <td>0.729373</td>\n",
       "      <td>2.313531</td>\n",
       "      <td>0.544554</td>\n",
       "    </tr>\n",
       "    <tr>\n",
       "      <th>std</th>\n",
       "      <td>9.082101</td>\n",
       "      <td>0.466011</td>\n",
       "      <td>1.032052</td>\n",
       "      <td>17.538143</td>\n",
       "      <td>51.830751</td>\n",
       "      <td>0.356198</td>\n",
       "      <td>0.525860</td>\n",
       "      <td>22.905161</td>\n",
       "      <td>0.469794</td>\n",
       "      <td>1.161075</td>\n",
       "      <td>0.616226</td>\n",
       "      <td>1.022606</td>\n",
       "      <td>0.612277</td>\n",
       "      <td>0.498835</td>\n",
       "    </tr>\n",
       "    <tr>\n",
       "      <th>min</th>\n",
       "      <td>29.000000</td>\n",
       "      <td>0.000000</td>\n",
       "      <td>0.000000</td>\n",
       "      <td>94.000000</td>\n",
       "      <td>126.000000</td>\n",
       "      <td>0.000000</td>\n",
       "      <td>0.000000</td>\n",
       "      <td>71.000000</td>\n",
       "      <td>0.000000</td>\n",
       "      <td>0.000000</td>\n",
       "      <td>0.000000</td>\n",
       "      <td>0.000000</td>\n",
       "      <td>0.000000</td>\n",
       "      <td>0.000000</td>\n",
       "    </tr>\n",
       "    <tr>\n",
       "      <th>25%</th>\n",
       "      <td>47.500000</td>\n",
       "      <td>0.000000</td>\n",
       "      <td>0.000000</td>\n",
       "      <td>120.000000</td>\n",
       "      <td>211.000000</td>\n",
       "      <td>0.000000</td>\n",
       "      <td>0.000000</td>\n",
       "      <td>133.500000</td>\n",
       "      <td>0.000000</td>\n",
       "      <td>0.000000</td>\n",
       "      <td>1.000000</td>\n",
       "      <td>0.000000</td>\n",
       "      <td>2.000000</td>\n",
       "      <td>0.000000</td>\n",
       "    </tr>\n",
       "    <tr>\n",
       "      <th>50%</th>\n",
       "      <td>55.000000</td>\n",
       "      <td>1.000000</td>\n",
       "      <td>1.000000</td>\n",
       "      <td>130.000000</td>\n",
       "      <td>240.000000</td>\n",
       "      <td>0.000000</td>\n",
       "      <td>1.000000</td>\n",
       "      <td>153.000000</td>\n",
       "      <td>0.000000</td>\n",
       "      <td>0.800000</td>\n",
       "      <td>1.000000</td>\n",
       "      <td>0.000000</td>\n",
       "      <td>2.000000</td>\n",
       "      <td>1.000000</td>\n",
       "    </tr>\n",
       "    <tr>\n",
       "      <th>75%</th>\n",
       "      <td>61.000000</td>\n",
       "      <td>1.000000</td>\n",
       "      <td>2.000000</td>\n",
       "      <td>140.000000</td>\n",
       "      <td>274.500000</td>\n",
       "      <td>0.000000</td>\n",
       "      <td>1.000000</td>\n",
       "      <td>166.000000</td>\n",
       "      <td>1.000000</td>\n",
       "      <td>1.600000</td>\n",
       "      <td>2.000000</td>\n",
       "      <td>1.000000</td>\n",
       "      <td>3.000000</td>\n",
       "      <td>1.000000</td>\n",
       "    </tr>\n",
       "    <tr>\n",
       "      <th>max</th>\n",
       "      <td>77.000000</td>\n",
       "      <td>1.000000</td>\n",
       "      <td>3.000000</td>\n",
       "      <td>200.000000</td>\n",
       "      <td>564.000000</td>\n",
       "      <td>1.000000</td>\n",
       "      <td>2.000000</td>\n",
       "      <td>202.000000</td>\n",
       "      <td>1.000000</td>\n",
       "      <td>6.200000</td>\n",
       "      <td>2.000000</td>\n",
       "      <td>4.000000</td>\n",
       "      <td>3.000000</td>\n",
       "      <td>1.000000</td>\n",
       "    </tr>\n",
       "  </tbody>\n",
       "</table>\n",
       "</div>"
      ],
      "text/plain": [
       "              age         sex          cp    trestbps        chol         fbs  \\\n",
       "count  303.000000  303.000000  303.000000  303.000000  303.000000  303.000000   \n",
       "mean    54.366337    0.683168    0.966997  131.623762  246.264026    0.148515   \n",
       "std      9.082101    0.466011    1.032052   17.538143   51.830751    0.356198   \n",
       "min     29.000000    0.000000    0.000000   94.000000  126.000000    0.000000   \n",
       "25%     47.500000    0.000000    0.000000  120.000000  211.000000    0.000000   \n",
       "50%     55.000000    1.000000    1.000000  130.000000  240.000000    0.000000   \n",
       "75%     61.000000    1.000000    2.000000  140.000000  274.500000    0.000000   \n",
       "max     77.000000    1.000000    3.000000  200.000000  564.000000    1.000000   \n",
       "\n",
       "          restecg     thalach       exang     oldpeak       slope          ca  \\\n",
       "count  303.000000  303.000000  303.000000  303.000000  303.000000  303.000000   \n",
       "mean     0.528053  149.646865    0.326733    1.039604    1.399340    0.729373   \n",
       "std      0.525860   22.905161    0.469794    1.161075    0.616226    1.022606   \n",
       "min      0.000000   71.000000    0.000000    0.000000    0.000000    0.000000   \n",
       "25%      0.000000  133.500000    0.000000    0.000000    1.000000    0.000000   \n",
       "50%      1.000000  153.000000    0.000000    0.800000    1.000000    0.000000   \n",
       "75%      1.000000  166.000000    1.000000    1.600000    2.000000    1.000000   \n",
       "max      2.000000  202.000000    1.000000    6.200000    2.000000    4.000000   \n",
       "\n",
       "             thal      target  \n",
       "count  303.000000  303.000000  \n",
       "mean     2.313531    0.544554  \n",
       "std      0.612277    0.498835  \n",
       "min      0.000000    0.000000  \n",
       "25%      2.000000    0.000000  \n",
       "50%      2.000000    1.000000  \n",
       "75%      3.000000    1.000000  \n",
       "max      3.000000    1.000000  "
      ]
     },
     "execution_count": 5,
     "metadata": {},
     "output_type": "execute_result"
    }
   ],
   "source": [
    "dataset.describe()"
   ]
  },
  {
   "cell_type": "markdown",
   "metadata": {
    "deletable": true,
    "editable": true,
    "id": "ghL0ccg1UFsA"
   },
   "source": [
    "The describe() method tells us about the range of values, the counts and the mean for each attribute. "
   ]
  },
  {
   "cell_type": "markdown",
   "metadata": {
    "deletable": true,
    "editable": true,
    "id": "50_iukCOUFsA"
   },
   "source": [
    "#### Now let us take a look at first 10 rows of the dataset"
   ]
  },
  {
   "cell_type": "code",
   "execution_count": 6,
   "metadata": {
    "collapsed": false,
    "deletable": true,
    "editable": true,
    "id": "rNPrgUdNUFsA",
    "outputId": "0e2ae8cf-ac60-4522-e5bb-f4a639b6a286"
   },
   "outputs": [
    {
     "data": {
      "text/html": [
       "<div>\n",
       "<style scoped>\n",
       "    .dataframe tbody tr th:only-of-type {\n",
       "        vertical-align: middle;\n",
       "    }\n",
       "\n",
       "    .dataframe tbody tr th {\n",
       "        vertical-align: top;\n",
       "    }\n",
       "\n",
       "    .dataframe thead th {\n",
       "        text-align: right;\n",
       "    }\n",
       "</style>\n",
       "<table border=\"1\" class=\"dataframe\">\n",
       "  <thead>\n",
       "    <tr style=\"text-align: right;\">\n",
       "      <th></th>\n",
       "      <th>age</th>\n",
       "      <th>sex</th>\n",
       "      <th>cp</th>\n",
       "      <th>trestbps</th>\n",
       "      <th>chol</th>\n",
       "      <th>fbs</th>\n",
       "      <th>restecg</th>\n",
       "      <th>thalach</th>\n",
       "      <th>exang</th>\n",
       "      <th>oldpeak</th>\n",
       "      <th>slope</th>\n",
       "      <th>ca</th>\n",
       "      <th>thal</th>\n",
       "      <th>target</th>\n",
       "    </tr>\n",
       "  </thead>\n",
       "  <tbody>\n",
       "    <tr>\n",
       "      <th>0</th>\n",
       "      <td>63</td>\n",
       "      <td>1</td>\n",
       "      <td>3</td>\n",
       "      <td>145</td>\n",
       "      <td>233</td>\n",
       "      <td>1</td>\n",
       "      <td>0</td>\n",
       "      <td>150</td>\n",
       "      <td>0</td>\n",
       "      <td>2.3</td>\n",
       "      <td>0</td>\n",
       "      <td>0</td>\n",
       "      <td>1</td>\n",
       "      <td>1</td>\n",
       "    </tr>\n",
       "    <tr>\n",
       "      <th>1</th>\n",
       "      <td>37</td>\n",
       "      <td>1</td>\n",
       "      <td>2</td>\n",
       "      <td>130</td>\n",
       "      <td>250</td>\n",
       "      <td>0</td>\n",
       "      <td>1</td>\n",
       "      <td>187</td>\n",
       "      <td>0</td>\n",
       "      <td>3.5</td>\n",
       "      <td>0</td>\n",
       "      <td>0</td>\n",
       "      <td>2</td>\n",
       "      <td>1</td>\n",
       "    </tr>\n",
       "    <tr>\n",
       "      <th>2</th>\n",
       "      <td>41</td>\n",
       "      <td>0</td>\n",
       "      <td>1</td>\n",
       "      <td>130</td>\n",
       "      <td>204</td>\n",
       "      <td>0</td>\n",
       "      <td>0</td>\n",
       "      <td>172</td>\n",
       "      <td>0</td>\n",
       "      <td>1.4</td>\n",
       "      <td>2</td>\n",
       "      <td>0</td>\n",
       "      <td>2</td>\n",
       "      <td>1</td>\n",
       "    </tr>\n",
       "    <tr>\n",
       "      <th>3</th>\n",
       "      <td>56</td>\n",
       "      <td>1</td>\n",
       "      <td>1</td>\n",
       "      <td>120</td>\n",
       "      <td>236</td>\n",
       "      <td>0</td>\n",
       "      <td>1</td>\n",
       "      <td>178</td>\n",
       "      <td>0</td>\n",
       "      <td>0.8</td>\n",
       "      <td>2</td>\n",
       "      <td>0</td>\n",
       "      <td>2</td>\n",
       "      <td>1</td>\n",
       "    </tr>\n",
       "    <tr>\n",
       "      <th>4</th>\n",
       "      <td>57</td>\n",
       "      <td>0</td>\n",
       "      <td>0</td>\n",
       "      <td>120</td>\n",
       "      <td>354</td>\n",
       "      <td>0</td>\n",
       "      <td>1</td>\n",
       "      <td>163</td>\n",
       "      <td>1</td>\n",
       "      <td>0.6</td>\n",
       "      <td>2</td>\n",
       "      <td>0</td>\n",
       "      <td>2</td>\n",
       "      <td>1</td>\n",
       "    </tr>\n",
       "    <tr>\n",
       "      <th>5</th>\n",
       "      <td>57</td>\n",
       "      <td>1</td>\n",
       "      <td>0</td>\n",
       "      <td>140</td>\n",
       "      <td>192</td>\n",
       "      <td>0</td>\n",
       "      <td>1</td>\n",
       "      <td>148</td>\n",
       "      <td>0</td>\n",
       "      <td>0.4</td>\n",
       "      <td>1</td>\n",
       "      <td>0</td>\n",
       "      <td>1</td>\n",
       "      <td>1</td>\n",
       "    </tr>\n",
       "    <tr>\n",
       "      <th>6</th>\n",
       "      <td>56</td>\n",
       "      <td>0</td>\n",
       "      <td>1</td>\n",
       "      <td>140</td>\n",
       "      <td>294</td>\n",
       "      <td>0</td>\n",
       "      <td>0</td>\n",
       "      <td>153</td>\n",
       "      <td>0</td>\n",
       "      <td>1.3</td>\n",
       "      <td>1</td>\n",
       "      <td>0</td>\n",
       "      <td>2</td>\n",
       "      <td>1</td>\n",
       "    </tr>\n",
       "    <tr>\n",
       "      <th>7</th>\n",
       "      <td>44</td>\n",
       "      <td>1</td>\n",
       "      <td>1</td>\n",
       "      <td>120</td>\n",
       "      <td>263</td>\n",
       "      <td>0</td>\n",
       "      <td>1</td>\n",
       "      <td>173</td>\n",
       "      <td>0</td>\n",
       "      <td>0.0</td>\n",
       "      <td>2</td>\n",
       "      <td>0</td>\n",
       "      <td>3</td>\n",
       "      <td>1</td>\n",
       "    </tr>\n",
       "    <tr>\n",
       "      <th>8</th>\n",
       "      <td>52</td>\n",
       "      <td>1</td>\n",
       "      <td>2</td>\n",
       "      <td>172</td>\n",
       "      <td>199</td>\n",
       "      <td>1</td>\n",
       "      <td>1</td>\n",
       "      <td>162</td>\n",
       "      <td>0</td>\n",
       "      <td>0.5</td>\n",
       "      <td>2</td>\n",
       "      <td>0</td>\n",
       "      <td>3</td>\n",
       "      <td>1</td>\n",
       "    </tr>\n",
       "    <tr>\n",
       "      <th>9</th>\n",
       "      <td>57</td>\n",
       "      <td>1</td>\n",
       "      <td>2</td>\n",
       "      <td>150</td>\n",
       "      <td>168</td>\n",
       "      <td>0</td>\n",
       "      <td>1</td>\n",
       "      <td>174</td>\n",
       "      <td>0</td>\n",
       "      <td>1.6</td>\n",
       "      <td>2</td>\n",
       "      <td>0</td>\n",
       "      <td>2</td>\n",
       "      <td>1</td>\n",
       "    </tr>\n",
       "  </tbody>\n",
       "</table>\n",
       "</div>"
      ],
      "text/plain": [
       "   age  sex  cp  trestbps  chol  fbs  restecg  thalach  exang  oldpeak  slope  \\\n",
       "0   63    1   3       145   233    1        0      150      0      2.3      0   \n",
       "1   37    1   2       130   250    0        1      187      0      3.5      0   \n",
       "2   41    0   1       130   204    0        0      172      0      1.4      2   \n",
       "3   56    1   1       120   236    0        1      178      0      0.8      2   \n",
       "4   57    0   0       120   354    0        1      163      1      0.6      2   \n",
       "5   57    1   0       140   192    0        1      148      0      0.4      1   \n",
       "6   56    0   1       140   294    0        0      153      0      1.3      1   \n",
       "7   44    1   1       120   263    0        1      173      0      0.0      2   \n",
       "8   52    1   2       172   199    1        1      162      0      0.5      2   \n",
       "9   57    1   2       150   168    0        1      174      0      1.6      2   \n",
       "\n",
       "   ca  thal  target  \n",
       "0   0     1       1  \n",
       "1   0     2       1  \n",
       "2   0     2       1  \n",
       "3   0     2       1  \n",
       "4   0     2       1  \n",
       "5   0     1       1  \n",
       "6   0     2       1  \n",
       "7   0     3       1  \n",
       "8   0     3       1  \n",
       "9   0     2       1  "
      ]
     },
     "execution_count": 6,
     "metadata": {},
     "output_type": "execute_result"
    }
   ],
   "source": [
    "dataset.head(10)"
   ]
  },
  {
   "cell_type": "markdown",
   "metadata": {
    "deletable": true,
    "editable": true,
    "id": "xWumGeCXUFsB"
   },
   "source": [
    "Printing the correlation"
   ]
  },
  {
   "cell_type": "code",
   "execution_count": 7,
   "metadata": {
    "collapsed": false,
    "deletable": true,
    "editable": true,
    "id": "WncqbYwXUFsB",
    "outputId": "92ade0de-8bf5-4a19-d350-3ae4b26d19ce"
   },
   "outputs": [
    {
     "name": "stdout",
     "output_type": "stream",
     "text": [
      "               age       sex        cp  trestbps      chol       fbs  \\\n",
      "age       1.000000 -0.098447 -0.068653  0.279351  0.213678  0.121308   \n",
      "sex      -0.098447  1.000000 -0.049353 -0.056769 -0.197912  0.045032   \n",
      "cp       -0.068653 -0.049353  1.000000  0.047608 -0.076904  0.094444   \n",
      "trestbps  0.279351 -0.056769  0.047608  1.000000  0.123174  0.177531   \n",
      "chol      0.213678 -0.197912 -0.076904  0.123174  1.000000  0.013294   \n",
      "fbs       0.121308  0.045032  0.094444  0.177531  0.013294  1.000000   \n",
      "restecg  -0.116211 -0.058196  0.044421 -0.114103 -0.151040 -0.084189   \n",
      "thalach  -0.398522 -0.044020  0.295762 -0.046698 -0.009940 -0.008567   \n",
      "exang     0.096801  0.141664 -0.394280  0.067616  0.067023  0.025665   \n",
      "oldpeak   0.210013  0.096093 -0.149230  0.193216  0.053952  0.005747   \n",
      "slope    -0.168814 -0.030711  0.119717 -0.121475 -0.004038 -0.059894   \n",
      "ca        0.276326  0.118261 -0.181053  0.101389  0.070511  0.137979   \n",
      "thal      0.068001  0.210041 -0.161736  0.062210  0.098803 -0.032019   \n",
      "target   -0.225439 -0.280937  0.433798 -0.144931 -0.085239 -0.028046   \n",
      "\n",
      "           restecg   thalach     exang   oldpeak     slope        ca  \\\n",
      "age      -0.116211 -0.398522  0.096801  0.210013 -0.168814  0.276326   \n",
      "sex      -0.058196 -0.044020  0.141664  0.096093 -0.030711  0.118261   \n",
      "cp        0.044421  0.295762 -0.394280 -0.149230  0.119717 -0.181053   \n",
      "trestbps -0.114103 -0.046698  0.067616  0.193216 -0.121475  0.101389   \n",
      "chol     -0.151040 -0.009940  0.067023  0.053952 -0.004038  0.070511   \n",
      "fbs      -0.084189 -0.008567  0.025665  0.005747 -0.059894  0.137979   \n",
      "restecg   1.000000  0.044123 -0.070733 -0.058770  0.093045 -0.072042   \n",
      "thalach   0.044123  1.000000 -0.378812 -0.344187  0.386784 -0.213177   \n",
      "exang    -0.070733 -0.378812  1.000000  0.288223 -0.257748  0.115739   \n",
      "oldpeak  -0.058770 -0.344187  0.288223  1.000000 -0.577537  0.222682   \n",
      "slope     0.093045  0.386784 -0.257748 -0.577537  1.000000 -0.080155   \n",
      "ca       -0.072042 -0.213177  0.115739  0.222682 -0.080155  1.000000   \n",
      "thal     -0.011981 -0.096439  0.206754  0.210244 -0.104764  0.151832   \n",
      "target    0.137230  0.421741 -0.436757 -0.430696  0.345877 -0.391724   \n",
      "\n",
      "              thal    target  \n",
      "age       0.068001 -0.225439  \n",
      "sex       0.210041 -0.280937  \n",
      "cp       -0.161736  0.433798  \n",
      "trestbps  0.062210 -0.144931  \n",
      "chol      0.098803 -0.085239  \n",
      "fbs      -0.032019 -0.028046  \n",
      "restecg  -0.011981  0.137230  \n",
      "thalach  -0.096439  0.421741  \n",
      "exang     0.206754 -0.436757  \n",
      "oldpeak   0.210244 -0.430696  \n",
      "slope    -0.104764  0.345877  \n",
      "ca        0.151832 -0.391724  \n",
      "thal      1.000000 -0.344029  \n",
      "target   -0.344029  1.000000  \n"
     ]
    }
   ],
   "source": [
    "print((dataset.corr()))"
   ]
  },
  {
   "cell_type": "markdown",
   "metadata": {},
   "source": [
    "### 3. Dataset Visualization"
   ]
  },
  {
   "cell_type": "markdown",
   "metadata": {
    "deletable": true,
    "editable": true,
    "id": "-Z4TXG5sUFsB"
   },
   "source": [
    "We can visualize the dataset to understand it and look at any processing which may be needed.\n",
    "By looking at the correlation matrix, we can see few features have negative correlation with the target while the others have positive correlation."
   ]
  },
  {
   "cell_type": "code",
   "execution_count": 8,
   "metadata": {
    "collapsed": false,
    "deletable": true,
    "editable": true,
    "id": "1xRa4S21UFsC",
    "outputId": "b93a159d-ec87-42df-e407-5f12a311b586"
   },
   "outputs": [
    {
     "data": {
      "text/plain": [
       "<matplotlib.colorbar.Colorbar at 0x99e86f0>"
      ]
     },
     "execution_count": 8,
     "metadata": {},
     "output_type": "execute_result"
    },
    {
     "data": {
      "image/png": "[encoded data removed]",
      "text/plain": [
       "<Figure size 1008x1008 with 2 Axes>"
      ]
     },
     "metadata": {
      "needs_background": "light"
     },
     "output_type": "display_data"
    }
   ],
   "source": [
    "rcParams['figure.figsize'] = 20,14\n",
    "plt.matshow(dataset.corr())\n",
    "plt.xticks(np.arange(dataset.shape[1]),dataset.columns)\n",
    "plt.yticks(np.arange(dataset.shape[1]),dataset.columns)\n",
    "plt.colorbar()"
   ]
  },
  {
   "cell_type": "markdown",
   "metadata": {
    "deletable": true,
    "editable": true,
    "id": "kCby5ekKUFsC"
   },
   "source": [
    "Let's view histograms for each variable.\n",
    "We can see every variable has a different range of distribution.\n",
    "Hence, scaling before doing predictions should be of great use."
   ]
  },
  {
   "cell_type": "code",
   "execution_count": 9,
   "metadata": {
    "collapsed": false,
    "deletable": true,
    "editable": true,
    "id": "uqqNxxstUFsG",
    "outputId": "65bd1ca3-5409-4140-e8ff-5f9416c171a6"
   },
   "outputs": [
    {
     "data": {
      "text/plain": [
       "array([[<matplotlib.axes._subplots.AxesSubplot object at 0x096E54F0>,\n",
       "        <matplotlib.axes._subplots.AxesSubplot object at 0x0B4270F0>,\n",
       "        <matplotlib.axes._subplots.AxesSubplot object at 0x0B4870B0>,\n",
       "        <matplotlib.axes._subplots.AxesSubplot object at 0x0B4A7030>],\n",
       "       [<matplotlib.axes._subplots.AxesSubplot object at 0x0B4B9FD0>,\n",
       "        <matplotlib.axes._subplots.AxesSubplot object at 0x0B274F90>,\n",
       "        <matplotlib.axes._subplots.AxesSubplot object at 0x0B291F50>,\n",
       "        <matplotlib.axes._subplots.AxesSubplot object at 0x0B4D0F10>],\n",
       "       [<matplotlib.axes._subplots.AxesSubplot object at 0x0B4EDED0>,\n",
       "        <matplotlib.axes._subplots.AxesSubplot object at 0x0B54FE90>,\n",
       "        <matplotlib.axes._subplots.AxesSubplot object at 0x0B56DE50>,\n",
       "        <matplotlib.axes._subplots.AxesSubplot object at 0x0B5CFE10>],\n",
       "       [<matplotlib.axes._subplots.AxesSubplot object at 0x0B5ECDD0>,\n",
       "        <matplotlib.axes._subplots.AxesSubplot object at 0x0B64DD90>,\n",
       "        <matplotlib.axes._subplots.AxesSubplot object at 0x0B66BD50>,\n",
       "        <matplotlib.axes._subplots.AxesSubplot object at 0x0B676BF0>]],\n",
       "      dtype=object)"
      ]
     },
     "execution_count": 9,
     "metadata": {},
     "output_type": "execute_result"
    },
    {
     "data": {
      "image/png": "[encoded data removed]",
      "text/plain": [
       "<Figure size 1440x1008 with 16 Axes>"
      ]
     },
     "metadata": {
      "needs_background": "light"
     },
     "output_type": "display_data"
    }
   ],
   "source": [
    "dataset.hist()"
   ]
  },
  {
   "cell_type": "markdown",
   "metadata": {
    "deletable": true,
    "editable": true,
    "id": "fWa2rJZtUFsJ"
   },
   "source": [
    "It's always a good practice to work with a dataset where the target classes are of approximately equal size.\n",
    "We can see these two classes are nearly 50%. It is good enough to continue without dropping/increasing the data."
   ]
  },
  {
   "cell_type": "code",
   "execution_count": 10,
   "metadata": {
    "collapsed": false,
    "deletable": true,
    "editable": true,
    "id": "MZDwWlfdUFsJ",
    "outputId": "550e5bbd-5c7f-446d-f35e-8d8980f87cbd"
   },
   "outputs": [
    {
     "data": {
      "text/plain": [
       "Text(0.5,1,'Count of each Target Class')"
      ]
     },
     "execution_count": 10,
     "metadata": {},
     "output_type": "execute_result"
    },
    {
     "data": {
      "image/png": "[encoded data removed]",
      "text/plain": [
       "<Figure size 576x432 with 1 Axes>"
      ]
     },
     "metadata": {
      "needs_background": "light"
     },
     "output_type": "display_data"
    }
   ],
   "source": [
    "rcParams['figure.figsize'] = 8,6\n",
    "plt.bar(dataset['target'].unique(), dataset['target'].value_counts(), color = ['red', 'green'])\n",
    "plt.xticks([0, 1])\n",
    "plt.xlabel('Target Classes')\n",
    "plt.ylabel('Count')\n",
    "plt.title('Count of each Target Class')"
   ]
  },
  {
   "cell_type": "markdown",
   "metadata": {
    "deletable": true,
    "editable": true,
    "id": "5iVUw3T8UFsK"
   },
   "source": [
    "### 4. Data Processing"
   ]
  },
  {
   "cell_type": "markdown",
   "metadata": {
    "deletable": true,
    "editable": true,
    "id": "MMwm1aS8UFsL"
   },
   "source": [
    "After viewing the dataset, we came to a conclusion that we need to convert some categorial variables to dummy variables and scale all values before we start training the ML models. \n",
    "We use get_dummies() to create dummy columns for categorial variables."
   ]
  },
  {
   "cell_type": "code",
   "execution_count": 11,
   "metadata": {
    "collapsed": true,
    "deletable": true,
    "editable": true,
    "id": "KZnAAk-1UFsL"
   },
   "outputs": [],
   "source": [
    "dataset = pd.get_dummies(dataset, columns = ['sex', 'cp', 'fbs', 'restecg', 'exang', 'slope', 'ca', 'thal'])"
   ]
  },
  {
   "cell_type": "markdown",
   "metadata": {
    "deletable": true,
    "editable": true,
    "id": "JK4wXBM_UFsM"
   },
   "source": [
    "Now we need to scale the dataset.\n",
    "Library Sklearn is used for this purpose."
   ]
  },
  {
   "cell_type": "code",
   "execution_count": 12,
   "metadata": {
    "collapsed": true,
    "deletable": true,
    "editable": true,
    "id": "H4Gdq6rEUFsM"
   },
   "outputs": [],
   "source": [
    "standardScaler = StandardScaler()\n",
    "columns_to_scale = ['age', 'trestbps', 'chol', 'thalach', 'oldpeak']\n",
    "dataset[columns_to_scale] = standardScaler.fit_transform(dataset[columns_to_scale])"
   ]
  },
  {
   "cell_type": "markdown",
   "metadata": {
    "deletable": true,
    "editable": true,
    "id": "mRtH7pPDUFsO"
   },
   "source": [
    "### 5. Data Spliting"
   ]
  },
  {
   "cell_type": "markdown",
   "metadata": {
    "deletable": true,
    "editable": true,
    "id": "pLrG-5SRUFsP"
   },
   "source": [
    "Our dataset is not ready to be applied to Machine Learning algorithms now.\n",
    "We need to split the data into training and testing data.\n",
    "For this, we will use train_test_split()."
   ]
  },
  {
   "cell_type": "code",
   "execution_count": 13,
   "metadata": {
    "collapsed": true,
    "deletable": true,
    "editable": true,
    "id": "FhG31flOUFsP"
   },
   "outputs": [],
   "source": [
    "# Split the data - 75% train, 25% test\n",
    "y = dataset['target']\n",
    "X = dataset.drop(['target'], axis = 1)\n",
    "X_train, X_test, y_train, y_test = train_test_split(X, y, test_size=0.33,\n",
    "                                                   random_state=1)\n",
    "\n",
    "# Scale the X data\n",
    "\n",
    "scaler = StandardScaler()\n",
    "X_train = scaler.fit_transform(X_train)\n",
    "X_test = scaler.transform(X_test)"
   ]
  },
  {
   "cell_type": "markdown",
   "metadata": {},
   "source": [
    "### 6. Modeling"
   ]
  },
  {
   "cell_type": "markdown",
   "metadata": {
    "deletable": true,
    "editable": true,
    "id": "KqAmOQgtUFsQ"
   },
   "source": [
    "<h4>Machine Learning</h4>"
   ]
  },
  {
   "cell_type": "markdown",
   "metadata": {},
   "source": [
    "<h4>1. K Neighbours Classifier</h4>"
   ]
  },
  {
   "cell_type": "markdown",
   "metadata": {
    "deletable": true,
    "editable": true,
    "id": "ISAsF7EXUFsR"
   },
   "source": [
    "The classification score varies based on different number of neighbors. \n",
    "Hence, we will plot a score graph for different values of K (neighbors) and check for the best score achieved."
   ]
  },
  {
   "cell_type": "markdown",
   "metadata": {
    "deletable": true,
    "editable": true,
    "id": "-XMdgx4-UFsT"
   },
   "source": [
    "minkowski_distance function helps to find the distance between 2 points"
   ]
  },
  {
   "cell_type": "code",
   "execution_count": 14,
   "metadata": {
    "collapsed": true,
    "deletable": true,
    "editable": true,
    "id": "lxeTPPyDUFsT"
   },
   "outputs": [],
   "source": [
    "# Calculate distance between two points\n",
    "def minkowski_distance(a, b, p=1):\n",
    "    \n",
    "    # Store the number of dimensions\n",
    "    dim = len(a)\n",
    "    \n",
    "    # Set initial distance to 0\n",
    "    distance = 0\n",
    "    \n",
    "    # Calculate minkowski distance using parameter p\n",
    "    for d in range(dim):\n",
    "        distance += abs(a[d] - b[d])**p\n",
    "        \n",
    "    distance = distance**(1/p)\n",
    "    \n",
    "    return distance"
   ]
  },
  {
   "cell_type": "markdown",
   "metadata": {
    "deletable": true,
    "editable": true,
    "id": "pHtJEdRLUFsU"
   },
   "source": [
    "The function called knn_predict takes in all the training and test data,k, and p, and returns the predictions the KNN classifier makes for the test set (y_hat_test). "
   ]
  },
  {
   "cell_type": "code",
   "execution_count": 15,
   "metadata": {
    "collapsed": true,
    "deletable": true,
    "editable": true,
    "id": "PJ1fuQpKUFsV"
   },
   "outputs": [],
   "source": [
    "def knn_predict(X_train, X_test, y_train, y_test, k, p):\n",
    "    \n",
    "    # Counter to help with label voting\n",
    "    from collections import Counter\n",
    "    \n",
    "    # Make predictions on the test data\n",
    "    # Need output of 1 prediction per test data point\n",
    "    y_hat_test = []\n",
    "\n",
    "    for test_point in X_test:\n",
    "        distances = []\n",
    "\n",
    "        for train_point in X_train:\n",
    "            distance = minkowski_distance(test_point, train_point, p=p)\n",
    "            distances.append(distance)\n",
    "        \n",
    "        # Store distances in a dataframe\n",
    "        df_dists = pd.DataFrame(data=distances, columns=['dist'], \n",
    "                                index=y_train.index)\n",
    "        \n",
    "        # Sort distances, and only consider the k closest points\n",
    "        df_nn = df_dists.sort_values(by=['dist'], axis=0)[:k]\n",
    "\n",
    "        # Create counter object to track the labels of k closest neighbors\n",
    "        counter = Counter(y_train[df_nn.index])\n",
    "\n",
    "        # Get most common label of all the nearest neighbors\n",
    "        prediction = counter.most_common()[0][0]\n",
    "        \n",
    "        # Append prediction to output list\n",
    "        y_hat_test.append(prediction)\n",
    "        \n",
    "    return y_hat_test"
   ]
  },
  {
   "cell_type": "code",
   "execution_count": 16,
   "metadata": {
    "collapsed": true,
    "deletable": true,
    "editable": true,
    "id": "3-CsSLFZUFsW"
   },
   "outputs": [],
   "source": [
    "# Obtain accuracy score varying k from 1 to 21\n",
    "def find_accuracies():\n",
    "    accuracies = []\n",
    "\n",
    "    for k in range(1,21):\n",
    "        scaler = StandardScaler()\n",
    "        y_hat_test = knn_predict(X_train, X_test, y_train, y_test, k, p=1)\n",
    "        accuracies.append(accuracy_score(y_test, y_hat_test))\n",
    "    print(accuracies)\n",
    "    return accuracies"
   ]
  },
  {
   "cell_type": "markdown",
   "metadata": {
    "deletable": true,
    "editable": true,
    "id": "TbT1zpZ5UFsZ"
   },
   "source": [
    "accuries[] hold the accuracy scores of different neighbours.\n",
    "We will plot the graph to clearly see which value of K gives the best score."
   ]
  },
  {
   "cell_type": "code",
   "execution_count": 17,
   "metadata": {
    "colab": {
     "base_uri": "https://localhost:8080/",
     "height": 316
    },
    "collapsed": false,
    "deletable": true,
    "editable": true,
    "id": "RpYgJ65fUFsZ",
    "outputId": "9512efd7-efd8-491b-b2ec-c47ee2bf0abd"
   },
   "outputs": [],
   "source": [
    "def plot_graph(accuracies):\n",
    "    plt.plot([k for k in range(1, 21)], accuracies, color = 'red')\n",
    "    for i in range(1,21):\n",
    "        plt.text(i, accuracies[i-1], (i, accuracies[i-1]))\n",
    "    plt.xticks([i for i in range(1, 21)])\n",
    "    plt.xlabel('Number of Neighbors (K)')\n",
    "    plt.ylabel('Scores')\n",
    "    plt.title('K Neighbors Classifier scores for different K values')"
   ]
  },
  {
   "cell_type": "markdown",
   "metadata": {
    "deletable": true,
    "editable": true,
    "id": "6_LlBEcpUFsa"
   },
   "source": [
    "From above graph, we can clearly see the maximum score that was achieved was 0.85 with k=9"
   ]
  },
  {
   "cell_type": "code",
   "execution_count": 18,
   "metadata": {
    "colab": {
     "base_uri": "https://localhost:8080/"
    },
    "collapsed": false,
    "deletable": true,
    "editable": true,
    "id": "OcRh9RbOUFsa",
    "outputId": "bc0e1f38-0508-44dd-e6da-b14ad530c5b3"
   },
   "outputs": [],
   "source": [
    "def print_result(accuracies):\n",
    "    max_acc = max(accuracies)\n",
    "    for i in range(len(accuracies)):\n",
    "        if accuracies[i] == max_acc:\n",
    "            optimal_k = i+1\n",
    "            break\n",
    "    print(\"The score for K Neighbors Classifier is {}% with {} neighbors.\".format(max_acc*100, optimal_k))\n",
    "    return max_acc,optimal_k"
   ]
  },
  {
   "cell_type": "code",
   "execution_count": 19,
   "metadata": {
    "collapsed": true,
    "deletable": true,
    "editable": true
   },
   "outputs": [],
   "source": [
    "def call_function():\n",
    "    accuracies = find_accuracies()\n",
    "    plot_graph(accuracies)\n",
    "    max_acc,optimal_k = print_result(accuracies)\n",
    "    print(max_acc)\n",
    "    print(optimal_k)\n",
    "    return max_acc,optimal_k"
   ]
  },
  {
   "cell_type": "code",
   "execution_count": 20,
   "metadata": {
    "collapsed": false,
    "deletable": true,
    "editable": true
   },
   "outputs": [
    {
     "name": "stdout",
     "output_type": "stream",
     "text": [
      "[0.71, 0.72, 0.75, 0.75, 0.79, 0.79, 0.84, 0.83, 0.85, 0.84, 0.84, 0.84, 0.84, 0.84, 0.83, 0.83, 0.84, 0.84, 0.83, 0.85]\n",
      "The score for K Neighbors Classifier is 85.0% with 9 neighbors.\n",
      "0.85\n",
      "9\n"
     ]
    },
    {
     "data": {
      "text/plain": [
       "(0.85, 9)"
      ]
     },
     "execution_count": 20,
     "metadata": {},
     "output_type": "execute_result"
    },
    {
     "data": {
      "image/png": "[encoded data removed]",
      "text/plain": [
       "<Figure size 576x432 with 1 Axes>"
      ]
     },
     "metadata": {
      "needs_background": "light"
     },
     "output_type": "display_data"
    }
   ],
   "source": [
    "call_function()"
   ]
  },
  {
   "cell_type": "markdown",
   "metadata": {
    "collapsed": true,
    "deletable": true,
    "editable": true,
    "id": "f7I08OWzUFsd"
   },
   "source": [
    "<h4>2. Support Vector Machine</h4>"
   ]
  },
  {
   "cell_type": "code",
   "execution_count": null,
   "metadata": {
    "collapsed": true,
    "deletable": true,
    "editable": true,
    "id": "nAQrosKTUFsd"
   },
   "outputs": [],
   "source": []
  },
  {
   "cell_type": "code",
   "execution_count": 21,
   "metadata": {
    "colab": {
     "base_uri": "https://localhost:8080/",
     "height": 265
    },
    "collapsed": false,
    "deletable": true,
    "editable": true,
    "id": "_Sc0NG4lUFse",
    "outputId": "47b6b33c-813a-4495-e2de-9323b1e47b8d"
   },
   "outputs": [
    {
     "data": {
      "image/png": "[encoded data removed]",
      "text/plain": [
       "<Figure size 576x432 with 1 Axes>"
      ]
     },
     "metadata": {
      "needs_background": "light"
     },
     "output_type": "display_data"
    }
   ],
   "source": [
    "import matplotlib.pyplot as plt\n",
    "# plotting scatters \n",
    "plt.scatter(X_train[:,0], X_train[:, 1], c=y_train, s=50, cmap='spring');\n",
    "plt.show()"
   ]
  },
  {
   "cell_type": "markdown",
   "metadata": {
    "deletable": true,
    "editable": true,
    "id": "LAebezAlUFsf"
   },
   "source": [
    "Using standard library"
   ]
  },
  {
   "cell_type": "code",
   "execution_count": 22,
   "metadata": {
    "collapsed": true,
    "deletable": true,
    "editable": true,
    "id": "QjeLxTprUFsf"
   },
   "outputs": [],
   "source": [
    "#Import svm model\n",
    "from sklearn import svm\n",
    "\n",
    "#Create a svm Classifier\n",
    "clf = svm.SVC(kernel='linear') # Linear Kernel\n",
    "\n",
    "#Train the model using the training sets\n",
    "clf.fit(X_train, y_train)\n",
    "\n",
    "#Predict the response for test dataset\n",
    "y_pred = clf.predict(X_test)"
   ]
  },
  {
   "cell_type": "code",
   "execution_count": 23,
   "metadata": {
    "collapsed": false,
    "deletable": true,
    "editable": true,
    "id": "1j5xjTWfUFsf",
    "outputId": "f48c986d-ae8f-4628-d100-e5d059820b12"
   },
   "outputs": [
    {
     "name": "stdout",
     "output_type": "stream",
     "text": [
      "('Accuracy:', 0.8)\n"
     ]
    }
   ],
   "source": [
    "#Import scikit-learn metrics module for accuracy calculation\n",
    "from sklearn import metrics\n",
    "\n",
    "# Model Accuracy: how often is the classifier correct?\n",
    "print (\"Accuracy:\",metrics.accuracy_score(y_test, y_pred))"
   ]
  },
  {
   "cell_type": "code",
   "execution_count": 24,
   "metadata": {
    "collapsed": false,
    "deletable": true,
    "editable": true,
    "id": "Sj-fipPlUFsf",
    "outputId": "e64f337b-bff3-4410-b521-cb5e02760fd6"
   },
   "outputs": [
    {
     "name": "stdout",
     "output_type": "stream",
     "text": [
      "('Precision:', 0.8269230769230769)\n",
      "('Recall:', 0.7962962962962963)\n"
     ]
    }
   ],
   "source": [
    "# Model Precision: what percentage of positive tuples are labeled as such?\n",
    "print (\"Precision:\",metrics.precision_score(y_test, y_pred))\n",
    "\n",
    "# Model Recall: what percentage of positive tuples are labelled as such?\n",
    "print (\"Recall:\",metrics.recall_score(y_test, y_pred))"
   ]
  },
  {
   "cell_type": "markdown",
   "metadata": {
    "collapsed": true,
    "deletable": true,
    "editable": true,
    "id": "vba32a--UFsg"
   },
   "source": [
    "<h4>3. Random Forest Classifier</h4>"
   ]
  },
  {
   "cell_type": "code",
   "execution_count": 25,
   "metadata": {
    "collapsed": true,
    "deletable": true,
    "editable": true,
    "id": "evhewB19UFsg"
   },
   "outputs": [],
   "source": [
    "# Import Random Forest Classifier model from scikit-learn\n",
    "\n",
    "from sklearn.ensemble import RandomForestClassifier"
   ]
  },
  {
   "cell_type": "code",
   "execution_count": 26,
   "metadata": {
    "collapsed": true,
    "deletable": true,
    "editable": true,
    "id": "ylNr-3XDUFsh"
   },
   "outputs": [],
   "source": [
    "rf_scores = []\n",
    "# estimators have the different number of decision trees that the classifier will consider to make the predictions. \n",
    "\n",
    "estimators = [ 10, 100, 200, 500, 1000,]\n",
    "#Applying Random Forest classifier for different values of estimators\n",
    "\n",
    "for i in estimators: \n",
    "    rf_classifier = RandomForestClassifier(n_estimators = i, random_state = 0)\n",
    "    rf_classifier.fit(X_train, y_train)\n",
    "    #Appending scores for each value of estimators\n",
    "    \n",
    "    rf_scores.append(rf_classifier.score(X_test, y_test))"
   ]
  },
  {
   "cell_type": "code",
   "execution_count": null,
   "metadata": {
    "collapsed": true,
    "deletable": true,
    "editable": true,
    "id": "h_ENgOe9UFsh"
   },
   "outputs": [],
   "source": []
  },
  {
   "cell_type": "code",
   "execution_count": 27,
   "metadata": {
    "collapsed": false,
    "deletable": true,
    "editable": true,
    "id": "CsgCyyK9UFsi",
    "outputId": "4a8c1c4e-9582-43ed-834c-0f19f9908e84"
   },
   "outputs": [
    {
     "data": {
      "image/png": "[encoded data removed]",
      "text/plain": [
       "<Figure size 576x432 with 1 Axes>"
      ]
     },
     "metadata": {
      "needs_background": "light"
     },
     "output_type": "display_data"
    }
   ],
   "source": [
    "\n",
    "# plotting the points  \n",
    "plt.plot(estimators,rf_scores)   \n",
    "# naming the x axis \n",
    "plt.ylabel('scores') \n",
    "# naming the y axis \n",
    "plt.xlabel('no of estimators')    \n",
    "# giving a title to my graph \n",
    "plt.title('Random forest classifier for different number of estimators')   \n",
    "# function to show the plot \n",
    "plt.show() "
   ]
  },
  {
   "cell_type": "code",
   "execution_count": 28,
   "metadata": {
    "collapsed": false,
    "deletable": true,
    "editable": true,
    "id": "oEivmv1aUFsj",
    "outputId": "f905004b-858e-447a-863b-440e64e1c96e"
   },
   "outputs": [
    {
     "name": "stdout",
     "output_type": "stream",
     "text": [
      "('Maximum score achieved', 0.81)\n",
      "('accuracy of model is : ', 0.8)\n",
      "('Precision:', 0.8035714285714286)\n",
      "('Confusion Matrix:', '\\n', array([[35, 11],\n",
      "       [ 9, 45]], dtype=int64))\n"
     ]
    }
   ],
   "source": [
    "from sklearn.metrics import accuracy_score, confusion_matrix\n",
    "#predicting values\n",
    "y_pred = rf_classifier.predict(X_test)\n",
    "print(\"Maximum score achieved\",max(rf_scores))\n",
    "print('accuracy of model is : ', accuracy_score(y_test, y_pred))\n",
    "print (\"Precision:\",metrics.precision_score(y_test, y_pred))\n",
    "\n",
    "# to evaluate the quality of the output of a classifier\n",
    "print('Confusion Matrix:','\\n', confusion_matrix(y_test, y_pred))"
   ]
  },
  {
   "cell_type": "code",
   "execution_count": 29,
   "metadata": {
    "collapsed": false,
    "deletable": true,
    "editable": true,
    "id": "pZKQ6EaSUFsj",
    "outputId": "f6fa0474-2bfe-4dcf-baf9-9118723c3c2b"
   },
   "outputs": [
    {
     "data": {
      "image/png": "[encoded data removed]",
      "text/plain": [
       "<Figure size 576x432 with 1 Axes>"
      ]
     },
     "metadata": {
      "needs_background": "light"
     },
     "output_type": "display_data"
    }
   ],
   "source": [
    "plt.scatter(X_test[:, 1],y_test,color ='red')\n",
    "plt.scatter(X_test[:,1],y_pred, color = 'blue')\n",
    "plt.show()\n",
    "\n",
    "# We can clearly see the results in the graph. The values that are in a different color are predicted wrong rest are right."
   ]
  },
  {
   "cell_type": "code",
   "execution_count": null,
   "metadata": {
    "collapsed": true,
    "deletable": true,
    "editable": true,
    "id": "nefemVe5UFsk"
   },
   "outputs": [],
   "source": []
  },
  {
   "cell_type": "markdown",
   "metadata": {
    "deletable": true,
    "editable": true,
    "id": "XtbGUuATVg3M"
   },
   "source": [
    "<h4>4. Decision Tree</h4>"
   ]
  },
  {
   "cell_type": "code",
   "execution_count": 30,
   "metadata": {
    "collapsed": true,
    "deletable": true,
    "editable": true,
    "id": "Bo0DaENAUFsk"
   },
   "outputs": [],
   "source": [
    "from sklearn.tree import DecisionTreeClassifier\n"
   ]
  },
  {
   "cell_type": "code",
   "execution_count": 31,
   "metadata": {
    "collapsed": true,
    "deletable": true,
    "editable": true,
    "id": "t0Lm3uLvUFsl"
   },
   "outputs": [],
   "source": [
    "max_accuracy = 0\n",
    "\n",
    "\n",
    "for x in range(200):\n",
    "    dt = DecisionTreeClassifier(random_state=x)\n",
    "    dt.fit(X_train,y_train)\n",
    "    y_predict = dt.predict(X_test)\n",
    "    current_accuracy = round(accuracy_score(y_predict,y_test)*100,2)\n",
    "    if(current_accuracy>max_accuracy):\n",
    "        max_accuracy = current_accuracy\n",
    "        best_x = x\n",
    "\n",
    "dt = DecisionTreeClassifier(random_state=best_x)\n",
    "dt.fit(X_train,y_train)\n",
    "y_predict = dt.predict(X_test)"
   ]
  },
  {
   "cell_type": "code",
   "execution_count": 32,
   "metadata": {
    "colab": {
     "base_uri": "https://localhost:8080/"
    },
    "collapsed": false,
    "deletable": true,
    "editable": true,
    "id": "_Lu83DRWUFsl",
    "outputId": "443874f8-0bf7-4dea-a082-796acdece502"
   },
   "outputs": [
    {
     "name": "stdout",
     "output_type": "stream",
     "text": [
      "The accuracy score achieved using Decision Tree is: 76.0 %\n"
     ]
    }
   ],
   "source": [
    "score_dt = round(accuracy_score(y_predict,y_test)*100,2)\n",
    "\n",
    "print(\"The accuracy score achieved using Decision Tree is: \"+str(score_dt)+\" %\")"
   ]
  },
  {
   "cell_type": "code",
   "execution_count": 33,
   "metadata": {
    "collapsed": false,
    "deletable": true,
    "editable": true,
    "id": "tmaYDr7aUFsl"
   },
   "outputs": [],
   "source": [
    "dataset2 = pd.read_csv('heart.csv')\n",
    "temp = []\n",
    "for i, j in dataset2.iterrows():\n",
    "    temp.append(j)\n",
    "\n",
    "each_row = []\n",
    "for i in range(len(temp)):\n",
    "    temp2 = []\n",
    "    for j in range(14):\n",
    "        temp2.append(temp[i][j])\n",
    "    each_row.append(temp2)\n",
    "#print(len(each_row))\n",
    "#print(each_row)"
   ]
  },
  {
   "cell_type": "code",
   "execution_count": 34,
   "metadata": {
    "collapsed": false,
    "deletable": true,
    "editable": true
   },
   "outputs": [],
   "source": [
    "def predict_class_knn(input_point):\n",
    "    list1=[]\n",
    "    for i in range(len(each_row)):\n",
    "        #intermediate temporary list\n",
    "        temp = []\n",
    "        #get distance between test point and each dataset point\n",
    "        distt = minkowski_distance(input_point, each_row[i])\n",
    "        temp.append(distt)\n",
    "        temp.append(each_row[i])\n",
    "        #temp will contain each element of list1\n",
    "        #it will be set to [] for each iteration of the loop\n",
    "\n",
    "        #list1 elements will have format : dist, dataset point\n",
    "        list1.append(temp)\n",
    "    \n",
    "    #print(list1)\n",
    "    #list1 is sorted in increasing order of the distances\n",
    "    list1.sort()\n",
    "    #print \"Sorted list is : \",list1\n",
    "\n",
    "    #accuracy is highest for k=9\n",
    "    k = 9\n",
    "    #to count the number of class 0\n",
    "    count0 = 0\n",
    "    #to count the number of class 1\n",
    "    count1 = 0\n",
    "\n",
    "    for i in range(k):\n",
    "        #first element of list1 is the distance\n",
    "        distx = list1[i][0]\n",
    "        #second element of list1 is the dataset point\n",
    "        pointx = list1[i][1]\n",
    "        #the last element of point is the class\n",
    "        classx = pointx[-1]\n",
    "        print \"\\n\"\n",
    "        print \"Distance : \",distx\n",
    "        print \"Point : \",pointx\n",
    "        print \"Class : \",classx\n",
    "        #for class 0 increase count0\n",
    "        if classx == 0 :\n",
    "            count0 += 1\n",
    "        #for class 1 increase count1\n",
    "        else : \n",
    "            count1 += 1\n",
    "\n",
    "    print \"\\nNumber of 0 classes for k = \",k,\" is \",count0\n",
    "    print \"Number of 1 classes for k = \",k,\" is \",count1\n",
    "    if count0 > count1 : \n",
    "        print \"\\nClass assigned is : \",0\n",
    "        return 0\n",
    "    if count0 < count1 : \n",
    "        print \"\\nClass assigned is : \",1\n",
    "        return 1\n",
    "    if count0 == count1 : \n",
    "        print \"\\nTIE. No Class assigned\"\n",
    "        return \"Tie\"\n",
    "        \n",
    "#driver\n",
    "#xm = [63, 1, 3, 145, 233, 1, 0, 150, 145, 2.3, 0, 0, 1]\n",
    "#print(dataset2)\n",
    "#predict_class_knn(xm)"
   ]
  },
  {
   "cell_type": "markdown",
   "metadata": {
    "collapsed": true,
    "deletable": true,
    "editable": true
   },
   "source": [
    "### 7. Model Selection and Application"
   ]
  },
  {
   "cell_type": "markdown",
   "metadata": {},
   "source": [
    "<h4>Here we declare that KNN is the algorithm which gives largest accuracy of 85%. <br> So, we are here implementing KNN.</h4>"
   ]
  },
  {
   "cell_type": "code",
   "execution_count": 35,
   "metadata": {
    "collapsed": false,
    "deletable": true,
    "editable": true
   },
   "outputs": [],
   "source": [
    "import tkinter\n",
    "from tkMessageBox import showerror"
   ]
  },
  {
   "cell_type": "code",
   "execution_count": 36,
   "metadata": {
    "collapsed": false,
    "deletable": true,
    "editable": true
   },
   "outputs": [],
   "source": [
    "def check_error(list1):\n",
    "    cities = [\"Agra\",\"Ahmedabad\",\"Amritsar\",\"Banglore\",\"Bhopal\",\n",
    "              \"Chennai\",\"Coimbatore\",\"Delhi\",\"Gwalior\",\"Hyderabad\",\n",
    "              \"Indore\",\"Jabalpur\",\"Jaipur\",\"Kanpur\",\"Kochi\",\n",
    "              \"Kolkata\",\"Kota\",\"Lucknow\",\"Madurai\",\"Merrut\",\n",
    "              \"Mumbai\",\"Nagpur\",\"Patna\",\"Pune\",\"Raipur\",\n",
    "             \"Ranchi\",\"Srinagar\",\"Surat\",\"Vadodara\",\"Vijaywada\"]\n",
    "    # 0    1   2     3       4      5      6    7    8     9      10      11  12  13    14     15    16  \n",
    "    #name age sex chestPain rbp serumChol fbs ecg thalach exang oldpeak slope ca thal phone email city\n",
    "    for i in range(len(list1)):\n",
    "        if list1[i] == \"\":\n",
    "            return 1\n",
    "        \n",
    "    if list1[2] < 0 or list1[2] > 1 :\n",
    "        return 2\n",
    "    \n",
    "    if list1[3] < 0 or list1[3] > 4 :\n",
    "        return 3\n",
    "    \n",
    "    if list1[4] < 94 or list1[4] > 200 : \n",
    "        return 4\n",
    "    \n",
    "    if list1[6] < 0 or list1[6] > 4 : \n",
    "        return 6\n",
    "    \n",
    "    if list1[7] < 0 or list1[7] > 2 : \n",
    "        return 7\n",
    "    \n",
    "    if list1[8] < 71 or list1[8] > 202 : \n",
    "        return 8\n",
    "    \n",
    "    if list1[9] < 0 or list1[9] > 1 : \n",
    "        return 9\n",
    "    \n",
    "    if list1[10] < 0 or list1[10] > 6.2 : \n",
    "        return 10\n",
    "    \n",
    "    if list1[11] < 0 or list1[11] > 2 : \n",
    "        return 11\n",
    "    \n",
    "    if list1[12] < 0 or list1[12] > 3 : \n",
    "        return 12\n",
    "    \n",
    "    if list1[13] < 0 or list1[13] > 3 : \n",
    "        return 13\n",
    "    \n",
    "    if len(list1[14]) != 10 : \n",
    "        return 14\n",
    "    \n",
    "    if list1[16] not in cities: \n",
    "        return 16\n",
    "        \n",
    "    return 0"
   ]
  },
  {
   "cell_type": "code",
   "execution_count": null,
   "metadata": {
    "collapsed": true,
    "deletable": true,
    "editable": true
   },
   "outputs": [],
   "source": [
    "import webbrowser"
   ]
  },
  {
   "cell_type": "code",
   "execution_count": 45,
   "metadata": {
    "collapsed": false,
    "deletable": true,
    "editable": true
   },
   "outputs": [
    {
     "name": "stdout",
     "output_type": "stream",
     "text": [
      "\n",
      "\n",
      "TRAINING PHASE : \n",
      "[0.71, 0.72, 0.75, 0.75, 0.79, 0.79, 0.84, 0.83, 0.85, 0.84, 0.84, 0.84, 0.84, 0.84, 0.83, 0.83, 0.84, 0.84, 0.83, 0.85]\n",
      "The score for K Neighbors Classifier is 85.0% with 9 neighbors.\n",
      "0.85\n",
      "9\n",
      "('ERROR : ', 0)\n",
      "[63, 1, 3, 145, 233, 1, 0, 150, 0, 2.3, 0, 0, 1]\n",
      "\n",
      "\n",
      "TESTING PHASE : \n",
      "\n",
      "\n",
      "Distance :  0.0\n",
      "Point :  [63.0, 1.0, 3.0, 145.0, 233.0, 1.0, 0.0, 150.0, 0.0, 2.3, 0.0, 0.0, 1.0, 1.0]\n",
      "Class :  1.0\n",
      "\n",
      "\n",
      "Distance :  25.3\n",
      "Point :  [61.0, 1.0, 3.0, 134.0, 234.0, 0.0, 1.0, 145.0, 0.0, 2.6, 1.0, 2.0, 2.0, 0.0]\n",
      "Class :  0.0\n",
      "\n",
      "\n",
      "Distance :  26.5\n",
      "Point :  [69.0, 0.0, 3.0, 140.0, 239.0, 0.0, 1.0, 151.0, 0.0, 1.8, 2.0, 2.0, 2.0, 1.0]\n",
      "Class :  1.0\n",
      "\n",
      "\n",
      "Distance :  30.9\n",
      "Point :  [62.0, 0.0, 0.0, 150.0, 244.0, 0.0, 1.0, 154.0, 1.0, 1.4, 1.0, 0.0, 2.0, 0.0]\n",
      "Class :  0.0\n",
      "\n",
      "\n",
      "Distance :  31.5\n",
      "Point :  [62.0, 1.0, 2.0, 130.0, 231.0, 0.0, 1.0, 146.0, 0.0, 1.8, 1.0, 3.0, 3.0, 1.0]\n",
      "Class :  1.0\n",
      "\n",
      "\n",
      "Distance :  33.3\n",
      "Point :  [46.0, 1.0, 2.0, 150.0, 231.0, 0.0, 1.0, 147.0, 0.0, 3.6, 1.0, 0.0, 2.0, 0.0]\n",
      "Class :  0.0\n",
      "\n",
      "\n",
      "Distance :  34.9\n",
      "Point :  [57.0, 1.0, 2.0, 128.0, 229.0, 0.0, 0.0, 150.0, 0.0, 0.4, 1.0, 1.0, 3.0, 0.0]\n",
      "Class :  0.0\n",
      "\n",
      "\n",
      "Distance :  35.8\n",
      "Point :  [59.0, 1.0, 0.0, 135.0, 234.0, 0.0, 1.0, 161.0, 0.0, 0.5, 1.0, 0.0, 3.0, 1.0]\n",
      "Class :  1.0\n",
      "\n",
      "\n",
      "Distance :  36.3\n",
      "Point :  [61.0, 1.0, 2.0, 150.0, 243.0, 1.0, 1.0, 137.0, 1.0, 1.0, 1.0, 0.0, 2.0, 1.0]\n",
      "Class :  1.0\n",
      "\n",
      "Number of 0 classes for k =  9  is  4\n",
      "Number of 1 classes for k =  9  is  5\n",
      "\n",
      "Class assigned is :  1\n",
      "('Class assigned : ', 1)\n",
      "Dr. Nirangan Garg from Nakshatra Heart and Multispeciality Hospital\tWebsite : http://www.nakshatrahospital.com/\n",
      "Dr. Siddhant Jain from Apollo Hospitals Indore\tWebsite : https://indore.apollohospitals.com/\n",
      "Dr. Prakash Bangani from Arihant Hospital & Research Centre\tWebsite : http://www.arihanthospital.org/\n"
     ]
    },
    {
     "data": {
      "image/png": "[encoded data removed]",
      "text/plain": [
       "<Figure size 576x432 with 1 Axes>"
      ]
     },
     "metadata": {
      "needs_background": "light"
     },
     "output_type": "display_data"
    }
   ],
   "source": [
    "def show_accuracy():\n",
    "    \n",
    "    print(\"\\n\")\n",
    "    print(\"TRAINING PHASE : \")\n",
    "    max_acc, optimal_k = call_function()\n",
    "    text1 = \" Accuracy \",max_acc*100,\"%\"\n",
    "    text2 = \" Optimal Value of k \",optimal_k\n",
    "     \n",
    "    substituteWindow = tkinter.Tk()\n",
    "    substituteWindow.geometry('640x480-8-200')\n",
    "    substituteWindow.title(\"TRAINING PHASE RESULTS\")\n",
    "\n",
    "    substituteWindow.columnconfigure(0, weight=2)\n",
    "    substituteWindow.columnconfigure(1, weight=1)\n",
    "    substituteWindow.columnconfigure(2, weight=2)\n",
    "    substituteWindow.columnconfigure(3, weight=2)\n",
    "    substituteWindow.rowconfigure(0, weight=1)\n",
    "    substituteWindow.rowconfigure(1, weight=2)\n",
    "    substituteWindow.rowconfigure(2, weight=2)\n",
    "    substituteWindow.rowconfigure(3, weight=1)\n",
    "    substituteWindow.rowconfigure(4, weight=1)\n",
    "    substituteWindow.rowconfigure(5, weight=1)\n",
    "\n",
    "    label1 = tkinter.Label(substituteWindow, text=\"KNN has the best accuracy\", font=('Impact', -25), fg='#0080ff')\n",
    "    label1.grid(row=0, column=1, columnspan=2)\n",
    "    label2 = tkinter.Label(substituteWindow, text = text1 , font=('Impact', -20), fg='red')\n",
    "    label2.grid(row=1, column=1, columnspan=2)\n",
    "    label3 = tkinter.Label(substituteWindow, text = text2 , font=('Impact', -20), fg='red')\n",
    "    label3.grid(row=2, column=1, columnspan=2)\n",
    "    \n",
    "    testButton = tkinter.Button(substituteWindow, text=\"...TEST...\", font=('Impact', -15), bg = 'red', command=test_model)\n",
    "    testButton.grid(row=4, column=1, columnspan=2)\n",
    "\n",
    "    substituteWindow.mainloop()\n",
    "\n",
    "    \n",
    "def test_model():\n",
    "    inputValues = []\n",
    "    \n",
    "    name1 = name.get()\n",
    "    age1 = int(age.get())\n",
    "    sex1 = int(sex.get())\n",
    "    chestPain1 = int(chestPain.get())\n",
    "    trestbps1 = int(rbp.get())\n",
    "    chol1 = int(serumChol.get())\n",
    "    fbs1 = int(FBS.get())\n",
    "    ecg1 = int(ECG.get())\n",
    "    thalach1 = int(thalach.get())\n",
    "    exang1 = int(exang.get())\n",
    "    oldpeak1 = float(oldpeak.get())\n",
    "    slope1 = int(slope.get())\n",
    "    ca1 = int(ca.get())\n",
    "    thal1 = int(thal.get())\n",
    "    phone1 = phone.get()\n",
    "    email1 = email.get()\n",
    "    city1 = city.get()\n",
    "    \n",
    "    list1 = []\n",
    "    list1.append(name1)\n",
    "    list1.append(age1)\n",
    "    list1.append(sex1)\n",
    "    list1.append(chestPain1)\n",
    "    list1.append(trestbps1)\n",
    "    list1.append(chol1)\n",
    "    list1.append(fbs1)\n",
    "    list1.append(ecg1)\n",
    "    list1.append(thalach1)\n",
    "    list1.append(exang1)\n",
    "    list1.append(oldpeak1)\n",
    "    list1.append(slope1)\n",
    "    list1.append(ca1)\n",
    "    list1.append(thal1)\n",
    "    list1.append(phone1)\n",
    "    list1.append(email1)\n",
    "    list1.append(city1)\n",
    "\n",
    "    err = check_error(list1)\n",
    "    print(\"ERROR : \",err)\n",
    "    \n",
    "    if err != 0:\n",
    "        showerror(title = \"Error\", message = \"Enter correct details\")\n",
    "    \n",
    "    if err == 0:\n",
    "        inputValues.append( age1 )\n",
    "        inputValues.append( sex1 ) \n",
    "        inputValues.append( chestPain1 ) \n",
    "        inputValues.append( trestbps1 ) \n",
    "        inputValues.append( chol1 ) \n",
    "        inputValues.append( fbs1 ) \n",
    "        inputValues.append( ecg1 )  \n",
    "        inputValues.append( thalach1 ) \n",
    "        inputValues.append( exang1 )\n",
    "        inputValues.append( oldpeak1 ) \n",
    "        inputValues.append( slope1 ) \n",
    "        inputValues.append( ca1 )\n",
    "        inputValues.append( thal1 ) \n",
    "\n",
    "        print(inputValues)\n",
    "\n",
    "        print(\"\\n\")\n",
    "        print(\"TESTING PHASE : \")\n",
    "        final_Result = predict_class_knn(inputValues)\n",
    "        print(\"Class assigned : \",final_Result)\n",
    "\n",
    "        substituteWindow2 = tkinter.Tk()\n",
    "        substituteWindow2.geometry('640x480-8-200')\n",
    "        substituteWindow2.title(\"RESULT PREDICTION\")\n",
    "\n",
    "        substituteWindow2.columnconfigure(0, weight=2)\n",
    "        substituteWindow2.columnconfigure(1, weight=1)\n",
    "        substituteWindow2.columnconfigure(2, weight=2)\n",
    "        substituteWindow2.columnconfigure(3, weight=2)\n",
    "        substituteWindow2.rowconfigure(0, weight=1)\n",
    "        substituteWindow2.rowconfigure(1, weight=10)\n",
    "        substituteWindow2.rowconfigure(2, weight=10)\n",
    "        substituteWindow2.rowconfigure(3, weight=1)\n",
    "        substituteWindow2.rowconfigure(4, weight=1)\n",
    "        substituteWindow2.rowconfigure(5, weight=1)\n",
    "        substituteWindow2.rowconfigure(6, weight=1)\n",
    "        substituteWindow2.rowconfigure(7, weight=1)\n",
    "        \n",
    "        #city1 = \"Nagpur\"\n",
    "        city_list = [\"Agra\",\"Ahmedabad\",\"Amritsar\",\"Banglore\",\"Bhopal\",\n",
    "                     \"Chennai\",\"Coimbatore\",\"Delhi\",\"Gwalior\",\"Hyderabad\",\n",
    "                     \"Indore\",\"Jabalpur\",\"Jaipur\",\"Kanpur\",\"Kochi\",\n",
    "                     \"Kolkata\",\"Kota\",\"Lucknow\",\"Madurai\",\"Merrut\",\n",
    "                     \"Mumbai\",\"Nagpur\",\"Patna\",\"Pune\",\"Raipur\",\n",
    "                     \"Ranchi\",\"Srinagar\",\"Surat\",\"Vadodara\",\"Vijaywada\"]\n",
    "        website_list = [[\"https://www.globalheartinstituteagra.com/\",\n",
    "                       \" https://rainbowhospitals.org/\",\n",
    "                        \"https://www.agraheartcentre.com/\"\n",
    "                        ],\n",
    "            [\"https://www.cims.org/cardiology/\",\n",
    "            \"https://www.apexheart.in/\",\n",
    "            \"https://www.shalby.org/contact-us/sg-shalby-hospital/\"\n",
    "            ],\n",
    "            [\"https://dr-yadvinder-singh-cardiologist-in-amritsar.business.site/\",\n",
    "            \"http://mananheartcare.com/\",\n",
    "            \"http://www.holyhearthospital.com/\"\n",
    "            ],\n",
    "            [\"http://www.jayadevacardiology.com/\",\n",
    "            \"https://www.manipalhospitals.com/?utm_source=GBL&utm_medium=organic\",\n",
    "            \"https://www.narayanahealth.org/hospitals/bangalore/narayana-institute-cardiac-sciences-bommasandra?utm_source=narayana-institute-cardiac-sciences-bommasandra&utm_medium=GMB_Hospital&utm_campaign=Organic\"\n",
    "            ],\n",
    "            [\"https://ubuntuhospital.business.site/?utm_source=gmb&utm_medium=referral\",\n",
    "            \"https://www.bestcardiologistbhopal.com/\",\n",
    "            \"https://madhavbaug.org/\"\n",
    "            ],\n",
    "            [\"https://chennai.apollohospitals.com/hospitals/apollo-heart-centre\",\n",
    "            \"https://www.vhospitals.com/\",\n",
    "            \"https://drsengottuvelu.com/\"\n",
    "            ],\n",
    "            [\"https://www.sriramakrishnahospital.com/\",\n",
    "            \"https://theheartandlungclinic.com/\",\n",
    "            \"https://www.jkpmedicalcenter.com/\"\n",
    "            ],\n",
    "            [\"https://www.metrohospitals.com/group-hospitals/metro-hospital-heart-institute-lajpat-nagar-delhi\",\n",
    "            \"http://www.ganeshshivnani.com/\",\n",
    "            \"http://kukrejahospital.in/\"\n",
    "            ],\n",
    "            [\"https://globalshospital.com/\",\n",
    "            \"https://veena-heart-care-centre.business.site/\",\n",
    "            \"https://www.apollospectra.com/our-hospitals/gwalior/vikas-nagar/best-hospital-in-vikas-nagar-gwalior/?utm_source=Google&utm_medium=GoogleMap&utm_campaign=GoogleMapGwalior\"\n",
    "            ],\n",
    "            [\"http://www.starexclinic.com/\",\n",
    "            \"*9391554109\",\n",
    "            \"https://www.balajiheartcenter.com/\"\n",
    "            ],\n",
    "            [\"http://www.nakshatrahospital.com/\",\n",
    "            \"https://indore.apollohospitals.com/\",\n",
    "            \"http://www.arihanthospital.org/\"\n",
    "            ],\n",
    "            [\"http://jabalpurhelpline.com/nema-heart-hospital\",\n",
    "            \"http://www.spandanheartstation.com/\",\n",
    "            \"https://jabalpurhelpline.com/patel-heart-clinic-and-diagnostic-centre-dr-pushpraj-patel\"\n",
    "            ],\n",
    "            [\"https://www.eternalhospital.com/\",\n",
    "            \"http://amitcardiologistgupta.business.site/\",\n",
    "            \"http://www.jaipurheartcentre.com/\"\n",
    "            ],\n",
    "            [\"http://www.krishnahospital.org.in/\",\n",
    "            \"http://www.shivanihospital.com/\",\n",
    "            \"https://www.satyahospitals.com/\"\n",
    "            ],\n",
    "            [\"https://sunrisehospitalcochin.com/\",\n",
    "            \"http://www.samaritanhospital.in/\",\n",
    "            \"https://lourdeshospital.in/\"\n",
    "            ],\n",
    "            [\"https://www.narayanahealth.org/kolkata/cardiology-adult/dr-abhijit-chatterjee\",\n",
    "            \"https://www.narayanahealth.org/kolkata/cardiology-adult/dr-auriom-kar\",\n",
    "            \"https://www.narayanahealth.org/kolkata/cardiology-adult/dr-amitabha-sengupta\"\n",
    "            ],\n",
    "            [\"drsaketgoyalcardio.com\",\n",
    "            \"mittalheartclinic.com\",\n",
    "            \"https://www.facebook.com/Dr-Dinesh-Bindal-cardiologist-516455985184726/\"\n",
    "            ],\n",
    "            [\"http://www.saharahospitals.com/\",\n",
    "            \"https://www.practo.com/lucknow/clinic/dr-madhuker-kapoor-clinic-golaganj?\"\n",
    "            \"http://www.drrakeshkumarcardio.com/\"\n",
    "            ],\n",
    "            [\"maduraicardiologist.com\",\n",
    "            \"drselvamanis.com\",\n",
    "            \"https://www.askapollo.com/doctors/cardiologist/madurai/dr-vivek-bose-c\"\n",
    "            ],\n",
    "            [\"https://www.anandhospital.com/our-doctors/\",\n",
    "            \"drvineetbansal.com\",\n",
    "            \"https://www.metrohospitals.com/doctors/sanjeev-saxena-dr\"\n",
    "            ],\n",
    "            [\"http://www.asianheartinstitute.org/\",\n",
    "            \"https://en.wikipedia.org/wiki/Nanavati_hospital\",\n",
    "            \"https://globalhospitalsmumbai.com/\"\n",
    "            ],\n",
    "            [\"http://platinahospital.com/home/doctors\",\n",
    "            \"https://www.practo.com/nagpur/doctor/dr-manish-m-juneja-cardiothoracic-surgeon\",\n",
    "            \"https://www.practo.com/nagpur/doctor/rhishikesh-umalkar-cardiologist\"\n",
    "            ],\n",
    "            [\"dakshheartcare.in\",\n",
    "            \"https://dr-ram-sagar-roy-cardiologist.business.site/\",\n",
    "            \"drrajivkrishna.com\"\n",
    "            ],\n",
    "            [\"https://www.bestcardiologistpune.com/heart-clinic-in-pune/\",\n",
    "            \"https://www.hridaymitracardiaclinic.com/interventional-cardiologist-in-pune/\",\n",
    "            \"cardiologypune.com\"\n",
    "            ],\n",
    "            [\"https://threebestrated.in/cardiologists-in-raipur-cg\",\n",
    "            \"http://www.shriclinics.com/doctor/dr-smit-shrivastava\",\n",
    "            \"https://www.narayanahealth.org/raipur/cardiology-adult/dr-sumanta-shekhar-padhi\"\n",
    "            ],\n",
    "            [\"https://threebestrated.in/cardiologists-in-ranchi-jh\",\n",
    "            \"https://www.credihealth.com/doctor/niraj-prasad-cardiologist/overview?hcc_id=803\",\n",
    "            \"https://aarogyam-cardiac-clinic.business.site/\"\n",
    "            ],\n",
    "            [\"https://remedoapp.com/rweb/doctors/dr-khurshid-iqbal/consult\",\n",
    "            \"https://www.lybrate.com/srinagar/doctor/dr-aijaz-mansoor-cardiologist\",\n",
    "            'http://www.shifamedcenter.com/'\n",
    "            ],\n",
    "            ['drdevangdesai.com',\n",
    "            \"drdhavalshah.net\",\n",
    "            \"http://drrajivkharwar.com/about-dr-rajiv-kharwar/\"\n",
    "            ],\n",
    "            [\"drvirendrasinhchauhan.com\",\n",
    "            \"https://dr-krish-vaidyas-icure-heart-clinic.business.site/\",\n",
    "            \"drkaushiktrivedi.com\"\n",
    "            ],\n",
    "            [\"https://www.practo.com/vijayawada/doctor/dr-murali-krishna-nallamothu-cardiologist?practice_id=758357&specialization=cardiologist\",\n",
    "            \"https://heartcarecenter.co.in/about-us\",\n",
    "            \"https://www.facebook.com/l9848012500/?rf=899553393519834\"\n",
    "            ]]\n",
    "        \n",
    "        doctor_list = [\n",
    "            [\"Dr. Suvir Gupta\",\"Dr. Vinesh Jain\",\"Dr. C R Rawat\"],\n",
    "            [\"Dr. Dhiren Shah\",\"Dr. Tejas Patel\",\"Dr. Vikram Shah\"],\n",
    "            [\"Dr. Yadvinder Singh\",\"Dr. Manan Anand\",\"Dr. Harshbir Singh Pannu\"],\n",
    "            [\"Dr. C N Manjunath\",\"Dr.(col) R D Holla\",\"Dr. Devi Prasad Shetty\"],\n",
    "            [\"Dr. Mandal Subroto\",\"Dr. R K Singh\",\"Dr. Rohit Madhav Sane\"],\n",
    "            [\"Dr. Sahukat Irfan Shah\",\"Dr. Gaurav Sahai\",\"Dr. G.Sengottuvelu\"],\n",
    "            [\"Dr. Gokul Krishnan\",\"Dr. Majid\",\"Dr. J K P\"],\n",
    "            [\"Dr. Purushottam Lal\",\"Dr. Ganesh Shivani\",\"Dr. Rajnish Kukreja\"],\n",
    "            [\"Dr. S Sridhar\",\"Dr. Dushyant Deo\",\"Dr. Meenakshi Sundaram\"],\n",
    "            [\"Dr. Vishwanath M\",\"Dr. S Shivakumar Reddy\",\"Dr. R Balaji\"],\n",
    "            [\"Dr. Nirangan Garg\",\"Dr. Siddhant Jain\",\"Dr. Prakash Bangani\"],\n",
    "            [\"Dr. Ram Narayan Nema\",\"Dr. Niteen Deshpande\",\"Dr. Pushpraj Patel\"],\n",
    "            [\"Dr. K K Sharma\",\"Dr. Amit Gupta\",\"Dr. Vijay Pathak\"],\n",
    "            [\"Dr. Ajit Kumar Rawat\",\"Dr. Shivaanshu Misra\",\"Dr. Mahalakshmi R\"],\n",
    "            [\"Dr. Keerthy Rajan\",\"Dr. Himal Raj . M\",\"Dr. Praveena Elizabeth Joseph\"],\n",
    "            [\"Dr. Abhijit Chatterjee\",\"Dr. Auriom Kar\",\"Dr. Amitabha Sengupta\"],\n",
    "            [\"DR. SAKET GOYAL\",'DR. PURUSHOTTAM MITTAL',\"DR. DINESH BINDAL\"],\n",
    "            [\"Dr. Mansoor Hasan\",\"Dr. Madhukar Kapoor\",\"Dr. Rakesh Kumar\"],\n",
    "            [\"DR. B R J KANNAN\",\"DR. S. SELVAMANI\",\"DR. VIVEK BOSE CHANDRABOSE\"],\n",
    "            [\"DR. ASHOK KUMAR GUPTA\",\"DR. VINEET BANSAL\",'Dr. Sanjeev Saxena'],\n",
    "            [\"Dr. Ramakant Panda\",'Dr. Abhishek Laxman Wadkar',\"Dr. Sandeep Attawar\"],\n",
    "            [\"DR. PRAMOD MUNDRA\",\"DR. MANISH JUNEJA\",\"DR. RHISHIKESH UMALKAR\"],\n",
    "            [\"DR. VIKAS SINGH\",\"DR. RAM SAGAR ROY\",\"DR. RAJIV KRISHNA\"],\n",
    "            [\"DR. RAHUL PATIL\",\"DR. RAHUL. D. SAWANT\",\"DR. RAJESH DHOPESHWARKAR\"],\n",
    "            [\"DR. PRASHANT ADVANI\",\"DR. SMIT SHRIVASTAVA\",\"DR. SUMANTA SHEKHAR PADHI\"],\n",
    "            [\"DR. KUSHAGRA MAHANSARIA\",\"Dr Niraj Prasad\",\"Dr.Ekam Kumar\"],\n",
    "            [\"Dr. Khurshid Iqbal\",\"Dr Aijaz Mansoor\",\"DR. KAISER HABIB\"],\n",
    "            [\"DR. DEVANG MAHESHCHANDRA DESAI\",\"DR. DHAVAL HASMUKHLAL SHAH\",\"DR. RAJIV KHARWAR\"],\n",
    "            [\"DR. VIRENDRASINH C CHAUHAN\",\"DR. KRISH VAIDYA\",\"DR. KAUSHIK K TRIVEDI\"],\n",
    "            [\"Dr. Murali Krishna Nallamothu\",\"DR. PALLEM PEDDESWARA RAO\",\"DR. Y. V. RAO\"]]\n",
    "        \n",
    "        hospital_list = [[\"Global Heart Institute\",\"Global Rainbow Health Care\",\"Agra Heart Center\"],\n",
    "            [\"Care Institute of Medical Sciences (CIMS)\",\"Apex Heart institute\",\"Shalby Hospital\"],\n",
    "            [\"Amandeep Medicity\",\"Man Heart Care\",\"Holy Heart Hospital\"],\n",
    "            [\"Sri Jayadeva Institute of Cardiovascular Sciences and Research\",\"Manipal Hospital\",\"Narayan Health\"],\n",
    "            [\"Ubuntu Heart Hospital\",\"Hamidia Hospital\",\"Madhavbaug Hospital\"],\n",
    "            [\"Apollo Heart Center\",\"Venkateshwar Hospitals\",\"G S Heart Clinic\"],\n",
    "            [\"Shri Ramakrishna Hospital\",\"The heart and lung Clinic\",\"Dr. J K P Medical Center\"],\n",
    "            [\"Metro Group of Hospitals\",\"Ganesh Shivani Clinic\",\"Kukreja Hospital and Heart Center\"],\n",
    "            [\"Global Speciality Hospital\",\"Veena Heart Care Center\",\"Apollo Spectra Hospital\"],\n",
    "            [\"Starex Multi Specialty Clinic\",\"Vaishnavi Heart Clinic\",\"Balaji Heart Center\"],\n",
    "            [\"Nakshatra Heart and Multispeciality Hospital\",\"Apollo Hospitals Indore\",\"Arihant Hospital & Research Centre\"],\n",
    "            [\"Nema Heart Hospital\",\"Spandan Heart Station\",\"Heart Specialist In Jabalpur\"],\n",
    "            [\"Eternal Multispeciality Hospital\",\"Best Heart Specialist/Intervention Cardiologist/Doctor Angiography Angioplasty Jaipur\",\"Jaipur Heart Center\"],\n",
    "            [\"Krishna Super Speciality Hospital\",\"Shivani Hospital & IVF,Satya Hospital\"],\n",
    "            [\"Sunrise Hospital\",\"Samaritan Heart Institute\",\"Lourdes Hospital\"],\n",
    "            [\"Rabindranath Tagore International Institute of Cardiac Sciences\",\"Narayana Multispeciality Hospital\",\"Rabindranath Tagore International Institute of Cardiac Sciences\"],\n",
    "            [\"Kota Heart Institute\",\"Mittal Heart Centre\",\"Dr. Dinesh Bindal Clinic\"],\n",
    "            [\"Sahara Hospital\",\"Dr. Madhukar Kapoor Clinic\",\"Dr. Rakesh Kumar Clinic\"],\n",
    "            [\"VADAMALAYAN HOSPITALS\",\"MEENAKSHI MISSION HOSPITAL & RESEARCH CENTRE\",\"APOLLO SPECIALITY HOSPITALS\"],\n",
    "            [\"ANAND HOSPITAL\",\"ANAND HOSPITAL\",\"Metro Hospital & Heart Institute\"],\n",
    "            [\"Asian Heart Institute\",\"Nanavati Super-specialty Hospital\",\"Global Hospital\", \"Parel\"],\n",
    "            [\"Platina Heart Hospital\",\"RHYTHM HEART CARE\",\"MANOMAY CARDIAC CARE AND IMAGING CENTRE\"],\n",
    "            [\"DAKSH HEART CARE\",\"DR. RAM SAGAR ROY clinic\",\"HEART CLINIC\"],\n",
    "            [\"HRIDAYAM HEART CARE CLINIC\",\"HRIDAYMITRA CARDIA CLINIC,\"\"HEART RHYTHM & HEART FAILURE CLINIC\"],\n",
    "            [\"ADVANI HEARTLINE & METABOLIC CENTRE\",\"DR. SMIT SHRIVASTAVA Clinic\",\"MMI NARAYANA MULTISPECIALITY HOSPITAL\"],\n",
    "            [\"RANCHI PULSE CENTER\",\"Medanta Ranchi\",\"Aarogyam Cardiac Clinic\"],\n",
    "            [\"Florence Heart Center\",\"KHYBER MEDICAL INSTITUTE\",\"SHIFA MEDICAL CENTRE\"],\n",
    "            [\"HRIDYAM HEART CARE CLINIC\",\"ICONIC HEART CLINIC\",\"Kharwar Clinic\"],\n",
    "            [\"ATMAJYOTI CARDIAC CLINIC\",\"ICURE HEART AND DIET CLINIC\",\"CITY HEART CENTRE\"],\n",
    "            [\"Manipal Hospital\",\"HEART CARE CENTRE\",\"USHA CARDIAC CENTRE\"]]\n",
    "        \n",
    "        \n",
    "\n",
    "        if final_Result == 1:\n",
    "            list1.append(\"Patient is in risk of Heart Disease\")\n",
    "            text1 = \"\"\n",
    "            text2 = \"\"\n",
    "            text3 = \"\"\n",
    "            for i in range(len(city_list)):\n",
    "                if city1 == city_list[i]:\n",
    "                    temp1 = doctor_list[i]\n",
    "                    temp2 = hospital_list[i]\n",
    "                    temp3 = website_list[i]\n",
    "                    text1 = temp1[0] + \" from \" + temp2[0] + \"\\tWebsite : \" + temp3[0]\n",
    "                    text2 = temp1[1] + \" from \" + temp2[1] + \"\\tWebsite : \" + temp3[1]\n",
    "                    text3 = temp1[2] + \" from \" + temp2[2] + \"\\tWebsite : \" + temp3[2]\n",
    "                \n",
    "            print(text1)\n",
    "            print(text2)\n",
    "            print(text3)\n",
    "            label1 = tkinter.Label(substituteWindow2, text=\"HEART DISEASE DETECTED\", font=('Impact', -35), fg='#0080ff')\n",
    "            label1.grid(row=0, column=1, columnspan=6)\n",
    "            label2 = tkinter.Label(substituteWindow2, text=\"PLEASE VISIT NEAREST CARDIOLOGIST AT THE EARLIEST\", font=('Impact', -20), fg='red')\n",
    "            label2.grid(row=1, column=1, columnspan=6)\n",
    "            label3 = tkinter.Label(substituteWindow2, text = text1, font=('Times', -15))\n",
    "            label3.grid(row=3, column = 2)\n",
    "            \n",
    "            label4 = tkinter.Label(substituteWindow2, text = text2, font=('Times', -15))\n",
    "            label4.grid(row=4, column = 2)\n",
    "            \n",
    "            label5 = tkinter.Label(substituteWindow2, text = text3, font=('Times', -15))\n",
    "            label5.grid(row=5, column = 2)\n",
    "\n",
    "        else: \n",
    "            label1 = tkinter.Label(substituteWindow2, text=\"NO DETECTIOIN OF HEART DISEASES\", font=('Impact', -35) )\n",
    "            label1.grid(row=2, column=1, columnspan=6)\n",
    "            label2 = tkinter.Label(substituteWindow2, text=\"Do not forget to exercise daily. \", font=('Impact', -20), fg='green')\n",
    "            label2.grid(row=3, column=1, columnspan=6)     \n",
    "        substituteWindow2.mainloop()\n",
    "\n",
    "\n",
    "mainWindow = tkinter.Tk()\n",
    "mainWindow.geometry('640x480-8-200')\n",
    "mainWindow['padx']=20\n",
    "mainWindow.title(\"HEART DISEASE PREDICTION\")\n",
    "\n",
    "mainWindow.columnconfigure(0, weight=2)\n",
    "mainWindow.columnconfigure(1, weight=1)\n",
    "mainWindow.columnconfigure(2, weight=2)\n",
    "mainWindow.columnconfigure(3, weight=2)\n",
    "mainWindow.rowconfigure(0, weight=0)\n",
    "mainWindow.rowconfigure(1, weight=0)\n",
    "mainWindow.rowconfigure(2, weight=1)\n",
    "mainWindow.rowconfigure(3, weight=1)\n",
    "mainWindow.rowconfigure(4, weight=1)\n",
    "mainWindow.rowconfigure(5, weight=1)\n",
    "mainWindow.rowconfigure(6, weight=1)\n",
    "mainWindow.rowconfigure(7, weight=1)\n",
    "mainWindow.rowconfigure(8, weight=10)\n",
    "\n",
    "\n",
    "label1 = tkinter.Label(mainWindow, text=\"HEART DISEASE PREDICTION MODEL\", font=('Impact', -35), bg='#ff8000')\n",
    "label1.grid(row=0, column=0, columnspan=6)\n",
    "\n",
    "label2 = tkinter.Label(mainWindow, text=\"Enter the details carefully\", font=('Impact', -20) , fg='white', bg='#ff00bf' )\n",
    "label2.grid(row=1, column=0, columnspan=6)\n",
    "\n",
    "\n",
    "#frame for the feature inputs\n",
    "nameFrame = tkinter.LabelFrame(mainWindow, text=\"Name\")\n",
    "nameFrame.grid(row=2, column=0)\n",
    "nameFrame.config(font=(\"Courier\", -15))\n",
    "name = tkinter.Entry(nameFrame)\n",
    "name.grid(row=2, column=2, sticky='nw')\n",
    "\n",
    "ageFrame = tkinter.LabelFrame(mainWindow, text=\"Age(yrs)\")\n",
    "ageFrame.grid(row=2, column=1)\n",
    "ageFrame.config(font=(\"Courier\", -15))\n",
    "age = tkinter.Entry(ageFrame)\n",
    "age.grid(row=2, column=2, sticky='nw')\n",
    "\n",
    "sexFrame = tkinter.LabelFrame(mainWindow, text=\"Sex(0-1)\")\n",
    "sexFrame.grid(row=2, column=2)\n",
    "sexFrame.config(font=(\"Courier\", -15))\n",
    "sex = tkinter.Entry(sexFrame)\n",
    "sex.grid(row=2, column=2, sticky='nw')\n",
    "\n",
    "chestPainFrame = tkinter.LabelFrame(mainWindow, text=\"CP (0-4)\")\n",
    "chestPainFrame.grid(row=3, column=0)\n",
    "chestPainFrame.config(font=(\"Courier\", -15))\n",
    "chestPain = tkinter.Entry(chestPainFrame)\n",
    "chestPain.grid(row=2, column=2, sticky='nw')\n",
    "\n",
    "\n",
    "rbpFrame = tkinter.LabelFrame(mainWindow, text=\"RBP (94-200)\")\n",
    "rbpFrame.grid(row=3, column=1)\n",
    "rbpFrame.config(font=(\"Courier\", -15))\n",
    "rbp = tkinter.Entry(rbpFrame)\n",
    "rbp.grid(row=2, column=2, sticky='nw')\n",
    "\n",
    "serumCholFrame = tkinter.LabelFrame(mainWindow, text=\"Serum Chol\")\n",
    "serumCholFrame.grid(row=3, column=2)\n",
    "serumCholFrame.config(font=(\"Courier\", -15))\n",
    "serumChol = tkinter.Entry(serumCholFrame)\n",
    "serumChol.grid(row=2, column=2, sticky='n')\n",
    "\n",
    "FBSFrame = tkinter.LabelFrame(mainWindow, text=\"Fasting BP(0-4)\")\n",
    "FBSFrame.grid(row=4, column=0)\n",
    "FBSFrame.config(font=(\"Courier\", -15))\n",
    "FBS = tkinter.Entry(FBSFrame)\n",
    "FBS.grid(row=2, column=2, sticky='nw')\n",
    "\n",
    "ECGFrame = tkinter.LabelFrame(mainWindow, text=\"ECG (0,1,2)\")\n",
    "ECGFrame.grid(row=4, column=1)\n",
    "ECGFrame.config(font=(\"Courier\", -15))\n",
    "ECG = tkinter.Entry(ECGFrame)\n",
    "ECG.grid(row=2, column=2, sticky='nw')\n",
    "\n",
    "\n",
    "thalachFrame = tkinter.LabelFrame(mainWindow, text=\"thalach(71-202)\")\n",
    "thalachFrame.grid(row=4, column=2)\n",
    "thalachFrame.config(font=(\"Courier\", -15))\n",
    "thalach = tkinter.Entry(thalachFrame)\n",
    "thalach.grid(row=2, column=2, sticky='nw')\n",
    "\n",
    "exangFrame = tkinter.LabelFrame(mainWindow, text=\"exAngina(0/1)\")\n",
    "exangFrame.grid(row=5, column=0)\n",
    "exangFrame.config(font=(\"Courier\", -15))\n",
    "exang = tkinter.Entry(exangFrame)\n",
    "exang.grid(row=2, column=2, sticky='nw')\n",
    "\n",
    "\n",
    "oldpeakFrame = tkinter.LabelFrame(mainWindow, text=\"Old Peak(0-6.2)\")\n",
    "oldpeakFrame.grid(row=5, column=1)\n",
    "oldpeakFrame.config(font=(\"Courier\", -15))\n",
    "oldpeak = tkinter.Entry(oldpeakFrame)\n",
    "oldpeak.grid(row=2, column=2, sticky='nw')\n",
    "\n",
    "slopeFrame = tkinter.LabelFrame(mainWindow, text=\"Slope(0,1,2)\")\n",
    "slopeFrame.grid(row=5, column=2)\n",
    "slopeFrame.config(font=(\"Courier\", -15))\n",
    "slope = tkinter.Entry(slopeFrame)\n",
    "slope.grid(row=2, column=2, sticky='nw')\n",
    "\n",
    "caFrame = tkinter.LabelFrame(mainWindow, text=\" C. A (0-3)\")\n",
    "caFrame.grid(row=6, column=0)\n",
    "caFrame.config(font=(\"Courier\", -15))\n",
    "ca = tkinter.Entry(caFrame)\n",
    "ca.grid(row=2, column=2, sticky='nw')\n",
    "\n",
    "\n",
    "thalFrame = tkinter.LabelFrame(mainWindow, text=\" THAL(0,1,2,3)\")\n",
    "thalFrame.grid(row=6, column=1)\n",
    "thalFrame.config(font=(\"Courier\", -15))\n",
    "thal = tkinter.Entry(thalFrame)\n",
    "thal.grid(row=2, column=2, sticky='nw')\n",
    "\n",
    "phoneFrame = tkinter.LabelFrame(mainWindow, text=\" Phone Number\")\n",
    "phoneFrame.grid(row=7, column=0)\n",
    "phoneFrame.config(font=(\"Courier\", -15))\n",
    "phone = tkinter.Entry(phoneFrame)\n",
    "phone.grid(row=2, column=2, sticky='nw')\n",
    "\n",
    "emailFrame = tkinter.LabelFrame(mainWindow, text=\" Email id\")\n",
    "emailFrame.grid(row=7, column=1)\n",
    "emailFrame.config(font=(\"Courier\", -15))\n",
    "email = tkinter.Entry(emailFrame)\n",
    "email.grid(row=2, column=2, sticky='nw')\n",
    "\n",
    "cityFrame = tkinter.LabelFrame(mainWindow, text=\" City\")\n",
    "cityFrame.grid(row=7, column=2)\n",
    "cityFrame.config(font=(\"Courier\", -15))\n",
    "city = tkinter.Entry(cityFrame)\n",
    "city.grid(row=2, column=2, sticky='nw')\n",
    "\n",
    "\n",
    "\n",
    "trainButton = tkinter.Button(mainWindow, text=\"...SHOW ACCURACY...\", font=('Impact', -15), bg = 'red', command=show_accuracy)\n",
    "trainButton.grid(row=8, column=0, columnspan=10)\n",
    "\n",
    "mainWindow.mainloop()\n"
   ]
  },
  {
   "cell_type": "code",
   "execution_count": null,
   "metadata": {
    "collapsed": true,
    "deletable": true,
    "editable": true
   },
   "outputs": [],
   "source": []
  },
  {
   "cell_type": "code",
   "execution_count": null,
   "metadata": {
    "collapsed": false,
    "deletable": true,
    "editable": true
   },
   "outputs": [],
   "source": []
  },
  {
   "cell_type": "code",
   "execution_count": null,
   "metadata": {
    "collapsed": false,
    "deletable": true,
    "editable": true
   },
   "outputs": [],
   "source": []
  },
  {
   "cell_type": "code",
   "execution_count": null,
   "metadata": {
    "collapsed": true,
    "deletable": true,
    "editable": true
   },
   "outputs": [],
   "source": []
  }
 ],
 "metadata": {
  "colab": {
   "collapsed_sections": [
    "50_iukCOUFsA"
   ],
   "name": "mlmodel.ipynb",
   "provenance": []
  },
  "kernelspec": {
   "display_name": "Python 2",
   "language": "python",
   "name": "python2"
  },
  "language_info": {
   "codemirror_mode": {
    "name": "ipython",
    "version": 2
   },
   "file_extension": ".py",
   "mimetype": "text/x-python",
   "name": "python",
   "nbconvert_exporter": "python",
   "pygments_lexer": "ipython2",
   "version": "2.7.13"
  }
 },
 "nbformat": 4,
 "nbformat_minor": 0
}
